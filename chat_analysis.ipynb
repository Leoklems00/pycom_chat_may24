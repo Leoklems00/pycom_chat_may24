{
 "cells": [
  {
   "cell_type": "markdown",
   "id": "6756cecf",
   "metadata": {},
   "source": [
    "## Introduction\n",
    "\n",
    "#### About the dataset\n",
    "The dataset for this project was obtaind by exporting chat from Python Community Anambra whatsapp general group. The data exported is a text file that contains activities on the group from between 21st July, 2023 to 6th May, 2024.\n",
    "\n",
    "#### Aim of project\n",
    "The aim of this project is to get a general overview of the activities that happened on the group within that period so as to provide insights and help in planning and decision making.\n",
    "\n",
    "#### Objectives of the project\n",
    "1. Determine how active the group members are in engaging the platform\n",
    "2. Understand the flow of persons into and out of the group\n",
    "3. Discover trends in activity rate\n",
    "4. Uncover some patterns in how persons use the platform\n",
    "5. Build dashboards to represent these findings.\n",
    "\n",
    "#### Duration of project\n",
    "This project was projected to take at most three days so it started on the 7th May 2024 but was concluded on 12th May 2024, a little longer than the projected duration due to some technical challanges.\n",
    "\n",
    "#### Tools Used\n",
    "In the course of completing this project, I used Microsoft Excel, Power Query, and python(jupyter notebook) libraries including pandas, seaborn, matplotlib, nltk, gensim and re.\n",
    "\n",
    "#### Methodology\n",
    "1. I exported the data from the whatsapp platform\n",
    "2. ETL(Extract,Transform, Load) with python into jupyter notebook with re and pandas\n",
    "3. Data cleaning and transformations with pandas\n",
    "4. EDA(Exploratory Data Analysis) with pandas, matplotlib and seaborn\n",
    "5. Export of some partialy cleaned data as csv for further processing with Microsoft power query and Excel.\n",
    "6. Data cleaning and transformation with Microsoft Power Query\n",
    "7. Data Analysis with Microsoft Excel's pivot table, formulas and functions\n",
    "8. Data Visualization with Microsoft Excel's charts\n",
    "9. Text analysis in jupyter notebook using nltk amd gensim\n",
    "10. Export of all relevant data as csv for use in Excel\n",
    "11. Dashboard Building\n",
    "\n",
    "#### Challanges\n",
    "1. Initially extracting the data from the text file using regex was a hard one but it was overcomed by research and practice\n",
    "2. Topic modeling and the preprocessing of text was not easy becaus i dont often do text analysis so the tools are not very familiar\n",
    "\n",
    "#### Conclusions\n",
    "The conclussions of this project are summarized in the accompaning dashboard report produced using Microsoft Excel.\n",
    "\n",
    "Thanks"
   ]
  },
  {
   "cell_type": "markdown",
   "id": "25d24cfe",
   "metadata": {},
   "source": [
    "### Importing the relevant libraries"
   ]
  },
  {
   "cell_type": "code",
   "execution_count": 1,
   "id": "34b4b998",
   "metadata": {},
   "outputs": [],
   "source": [
    "import nltk\n",
    "import numpy as np\n",
    "import matplotlib.pyplot as plt\n",
    "import pandas as pd\n",
    "import seaborn as sns\n",
    "import re\n",
    "from nltk.tokenize import word_tokenize\n",
    "from nltk.sentiment.vader import SentimentIntensityAnalyzer\n",
    "from nltk.corpus import stopwords\n",
    "from textblob import TextBlob\n",
    "# from wordcloud import WordCloud\n",
    "from gensim.utils import simple_preprocess\n",
    "from gensim.models import LdaModel\n",
    "from gensim import corpora\n",
    "\n",
    "import warnings\n",
    "warnings.filterwarnings(\"ignore\")\n",
    "warnings.warn(\"this will not show\")\n",
    "pd.set_option('display.max_columns', None)"
   ]
  },
  {
   "cell_type": "markdown",
   "id": "69070b71",
   "metadata": {},
   "source": [
    "### Data Extraction Transformation and Loading (ETL)"
   ]
  },
  {
   "cell_type": "code",
   "execution_count": 2,
   "id": "4e53e2af",
   "metadata": {},
   "outputs": [],
   "source": [
    "data = []# to hold the data when extracted\n",
    "\n",
    "# extract the text by readigthe document and looping over the lines\n",
    "with open('pycom_chat1.txt', 'r', encoding='utf-8') as f:\n",
    "    for line in f:\n",
    "        line = line.strip()\n",
    "        match = re.match(r'^(\\d{1,2}\\/\\d{1,2}\\/\\d{1,2}, \\d{1,2}:\\d{1,2}\\s{1}(AM|PM))(\\s{1}-(\\s{1}.*:(?= )))(.*)$', line)\n",
    "        match_left = re.match(r'^(\\d{1,2}\\/\\d{1,2}\\/\\d{1,2}, \\d{1,2}:\\d{1,2}\\s{1}(AM|PM))(\\s{1}-(\\s{1}))((.*)(left)$)', line)\n",
    "        match_add = re.match(r'^(\\d{1,2}\\/\\d{1,2}\\/\\d{1,2}, \\d{1,2}:\\d{1,2}\\s{1}(AM|PM))(\\s{1}-(\\s{1}))((.*)(added)(.*)$)', line)\n",
    "        match_req = re.match(r'^(\\d{1,2}\\/\\d{1,2}\\/\\d{1,2}, \\d{1,2}:\\d{1,2}\\s{1}(AM|PM))(\\s{1}-(\\s{1}))((.*)(requested to join.)$)', line)\n",
    "        match_joined = re.match(r'^(\\d{1,2}\\/\\d{1,2}\\/\\d{1,2}, \\d{1,2}:\\d{1,2}\\s{1}(AM|PM))(\\s{1}-(\\s{1}))((.*)(joined using this group\\'s invite link)$)', line)\n",
    "        match_join_frm_com = re.match(r'^(\\d{1,2}\\/\\d{1,2}\\/\\d{1,2}, \\d{1,2}:\\d{1,2}\\s{1}(AM|PM))(\\s{1}-(\\s{1}))((.*)(joined from the community)$)', line)\n",
    "        match_pinned_mes = re.match(r'^(\\d{1,2}\\/\\d{1,2}\\/\\d{1,2}, \\d{1,2}:\\d{1,2}\\s{1}(AM|PM))(\\s{1}-(\\s{1}))((.*)(pinned a message)$)', line)\n",
    "        match_change_num = re.match(r'^(\\d{1,2}\\/\\d{1,2}\\/\\d{1,2}, \\d{1,2}:\\d{1,2}\\s{1}(AM|PM))(\\s{1}-(\\s{1}))((.*)(Tap to message or add the new number.)$)', line)\n",
    "        match_joined_by_my_invite = re.match(r'^(\\d{1,2}\\/\\d{1,2}\\/\\d{1,2}, \\d{1,2}:\\d{1,2}\\s{1}(AM|PM))(\\s{1}-(\\s{1}))((.*)(joined using your invite)$)', line)\n",
    "        match_others_1 = re.match(r'^(\\d{1,2}\\/\\d{1,2}\\/\\d{1,2}, \\d{1,2}:\\d{1,2}\\s{1}(AM|PM))(\\s{1}-(\\s{1}))((.*)(except when kept.)$)', line)\n",
    "        match_others_2 = re.match(r'^(\\d{1,2}\\/\\d{1,2}\\/\\d{1,2}, \\d{1,2}:\\d{1,2}\\s{1}(AM|PM))(\\s{1}-(\\s{1}))((.*)(disappearing messages.)$)', line)\n",
    "        match_others_3 = re.match(r'^(\\d{1,2}\\/\\d{1,2}\\/\\d{1,2}, \\d{1,2}:\\d{1,2}\\s{1}(AM|PM))(\\s{1}-(\\s{1}))((You removed)(.*)$)', line)\n",
    "        match_others_4 = re.match(r'^(\\d{1,2}\\/\\d{1,2}\\/\\d{1,2}, \\d{1,2}:\\d{1,2}\\s{1}(AM|PM))(\\s{1}-(\\s{1}))((Anyone in this group is now a community member)(.*)$)', line)\n",
    "        match_others_5 = re.match(r'^(\\d{1,2}\\/\\d{1,2}\\/\\d{1,2}, \\d{1,2}:\\d{1,2}\\s{1}(AM|PM))(\\s{1}-(\\s{1}))((.*)(changed to)(.*)$)', line)\n",
    "        \n",
    "        \n",
    "        if match:\n",
    "            global p1\n",
    "            p1 = match.group(1)\n",
    "            global p2\n",
    "            p2 = match.group(4)\n",
    "            global p3\n",
    "            p3 = match.group(5)\n",
    "            mes = \"message\" # to track the type of text\n",
    "        elif match_left:\n",
    "            p1 = match_left.group(1)  \n",
    "            p2 = match_left.group(6)\n",
    "            p3 = match_left.group(7)\n",
    "            mes = \"left\"\n",
    "        elif match_add:\n",
    "            p1 = match_add.group(1)  \n",
    "            p2 = match_add.group(6)\n",
    "            p3 = match_add.group(7)+\" \"+match_add.group(8)\n",
    "            mes = \"added\"\n",
    "        elif match_req:\n",
    "            p1 = match_req.group(1)  \n",
    "            p2 = match_req.group(6)\n",
    "            p3 = match_req.group(7)\n",
    "            mes = \"join request\"\n",
    "        elif match_joined:\n",
    "            p1 = match_joined.group(1)  \n",
    "            p2 = match_joined.group(6)\n",
    "            p3 = match_joined.group(7)\n",
    "            mes = \"joined\"\n",
    "        elif match_join_frm_com:\n",
    "            p1 = match_join_frm_com.group(1)  \n",
    "            p2 = match_join_frm_com.group(6)\n",
    "            p3 = match_join_frm_com.group(7)\n",
    "            mes = \"joined\"\n",
    "        elif match_joined_by_my_invite:\n",
    "            p1 = match_joined_by_my_invite.group(1)  \n",
    "            p2 = match_joined_by_my_invite.group(6)\n",
    "            p3 = match_joined_by_my_invite.group(7)\n",
    "            mes = \"joined\"\n",
    "        elif match_pinned_mes:\n",
    "            p1 = match_pinned_mes.group(1)  \n",
    "            p2 = match_pinned_mes.group(6)\n",
    "            p3 = match_pinned_mes.group(7)\n",
    "            mes = \"pinned a message\"\n",
    "        elif match_change_num:\n",
    "            p1 = match_change_num.group(1)  \n",
    "            p2 = match_change_num.group(6)\n",
    "            p3 = match_change_num.group(7)\n",
    "            mes = \"changed number\"\n",
    "        elif match_others_1:\n",
    "            p1 = match_others_1.group(1)  \n",
    "            p2 = match_others_1.group(6)\n",
    "            p3 = match_others_1.group(7)\n",
    "            mes = \"others\"\n",
    "        elif match_others_2:\n",
    "            p1 = match_others_2.group(1)  \n",
    "            p2 = match_others_2.group(6)\n",
    "            p3 = match_others_2.group(7)\n",
    "            mes = \"others\"\n",
    "        elif match_others_3:\n",
    "            p1 = match_others_3.group(1)  \n",
    "            p2 = match_others_3.group(6)\n",
    "            p3 = match_others_3.group(7)\n",
    "            mes = \"others\"\n",
    "        elif match_others_4:\n",
    "            p1 = match_others_4.group(1)  \n",
    "            p2 = match_others_4.group(6)\n",
    "            p3 = match_others_4.group(7)\n",
    "            mes = \"others\"\n",
    "        elif match_others_5:\n",
    "            p1 = match_others_5.group(1)  \n",
    "            p2 = match_others_5.group(6)\n",
    "            p3 = match_others_5.group(7)+\" \"+match_others_5.group(8)\n",
    "            mes = \"others\"\n",
    "        else:\n",
    "#             print(line)\n",
    "            p3 += \"\\n\"\n",
    "            p3 += line\n",
    "            mes = \"message\"\n",
    "            data.pop()# delete the last added item\n",
    "        data.append([p1, p2, mes, p3])\n",
    "\n",
    "df = pd.DataFrame(data, columns = ['datetime', 'name', 'type', 'detail'])"
   ]
  },
  {
   "cell_type": "code",
   "execution_count": 3,
   "id": "69cd5145",
   "metadata": {},
   "outputs": [
    {
     "name": "stdout",
     "output_type": "stream",
     "text": [
      "<class 'pandas.core.frame.DataFrame'>\n",
      "RangeIndex: 844 entries, 0 to 843\n",
      "Data columns (total 4 columns):\n",
      " #   Column    Non-Null Count  Dtype \n",
      "---  ------    --------------  ----- \n",
      " 0   datetime  844 non-null    object\n",
      " 1   name      844 non-null    object\n",
      " 2   type      844 non-null    object\n",
      " 3   detail    844 non-null    object\n",
      "dtypes: object(4)\n",
      "memory usage: 26.5+ KB\n"
     ]
    }
   ],
   "source": [
    "df.info() # to get some basic information about the newly cteated dataframe"
   ]
  },
  {
   "cell_type": "markdown",
   "id": "c8dd81a4",
   "metadata": {},
   "source": [
    "### More data cleaning and transformation"
   ]
  },
  {
   "cell_type": "code",
   "execution_count": 5,
   "id": "ef7e526c",
   "metadata": {},
   "outputs": [],
   "source": [
    "df[\"date\"] = df[\"datetime\"].str.split(', ').str[0]\n",
    "df[\"time\"] = df[\"datetime\"].str.split(', ').str[-1]\n",
    "df[\"date\"] = pd.to_datetime(df.date)\n",
    "df[\"time\"] = pd.to_datetime(df.time)\n",
    "df[\"time\"] = df.time.dt.time\n",
    "df[\"year\"] = df.date.dt.year.astype('int')\n",
    "df[\"month\"] = df.date.dt.month\n",
    "df[\"day\"] = df.date.dt.day"
   ]
  },
  {
   "cell_type": "code",
   "execution_count": 6,
   "id": "602ba3d6",
   "metadata": {},
   "outputs": [
    {
     "name": "stdout",
     "output_type": "stream",
     "text": [
      "<class 'pandas.core.frame.DataFrame'>\n",
      "RangeIndex: 844 entries, 0 to 843\n",
      "Data columns (total 9 columns):\n",
      " #   Column    Non-Null Count  Dtype         \n",
      "---  ------    --------------  -----         \n",
      " 0   datetime  844 non-null    object        \n",
      " 1   name      844 non-null    object        \n",
      " 2   type      844 non-null    object        \n",
      " 3   detail    844 non-null    object        \n",
      " 4   date      844 non-null    datetime64[ns]\n",
      " 5   time      844 non-null    object        \n",
      " 6   year      844 non-null    int32         \n",
      " 7   month     844 non-null    int32         \n",
      " 8   day       844 non-null    int32         \n",
      "dtypes: datetime64[ns](1), int32(3), object(5)\n",
      "memory usage: 49.6+ KB\n"
     ]
    }
   ],
   "source": [
    "df.info()"
   ]
  },
  {
   "cell_type": "markdown",
   "id": "73d556bf",
   "metadata": {},
   "source": [
    "### Exploratory Data Analysis"
   ]
  },
  {
   "cell_type": "code",
   "execution_count": 7,
   "id": "b6107d0b",
   "metadata": {},
   "outputs": [
    {
     "data": {
      "text/plain": [
       "844"
      ]
     },
     "execution_count": 7,
     "metadata": {},
     "output_type": "execute_result"
    }
   ],
   "source": [
    "total_count_of_engagements = df.name.count()\n",
    "total_count_of_engagements"
   ]
  },
  {
   "cell_type": "code",
   "execution_count": 8,
   "id": "5190b4db",
   "metadata": {},
   "outputs": [
    {
     "data": {
      "text/html": [
       "<div>\n",
       "<style scoped>\n",
       "    .dataframe tbody tr th:only-of-type {\n",
       "        vertical-align: middle;\n",
       "    }\n",
       "\n",
       "    .dataframe tbody tr th {\n",
       "        vertical-align: top;\n",
       "    }\n",
       "\n",
       "    .dataframe thead th {\n",
       "        text-align: right;\n",
       "    }\n",
       "</style>\n",
       "<table border=\"1\" class=\"dataframe\">\n",
       "  <thead>\n",
       "    <tr style=\"text-align: right;\">\n",
       "      <th></th>\n",
       "      <th>no_of_engagements</th>\n",
       "    </tr>\n",
       "    <tr>\n",
       "      <th>type</th>\n",
       "      <th></th>\n",
       "    </tr>\n",
       "  </thead>\n",
       "  <tbody>\n",
       "    <tr>\n",
       "      <th>message</th>\n",
       "      <td>613</td>\n",
       "    </tr>\n",
       "    <tr>\n",
       "      <th>joined</th>\n",
       "      <td>95</td>\n",
       "    </tr>\n",
       "    <tr>\n",
       "      <th>join request</th>\n",
       "      <td>94</td>\n",
       "    </tr>\n",
       "    <tr>\n",
       "      <th>left</th>\n",
       "      <td>17</td>\n",
       "    </tr>\n",
       "    <tr>\n",
       "      <th>added</th>\n",
       "      <td>11</td>\n",
       "    </tr>\n",
       "    <tr>\n",
       "      <th>pinned a message</th>\n",
       "      <td>6</td>\n",
       "    </tr>\n",
       "    <tr>\n",
       "      <th>others</th>\n",
       "      <td>5</td>\n",
       "    </tr>\n",
       "    <tr>\n",
       "      <th>changed number</th>\n",
       "      <td>3</td>\n",
       "    </tr>\n",
       "  </tbody>\n",
       "</table>\n",
       "</div>"
      ],
      "text/plain": [
       "                  no_of_engagements\n",
       "type                               \n",
       "message                         613\n",
       "joined                           95\n",
       "join request                     94\n",
       "left                             17\n",
       "added                            11\n",
       "pinned a message                  6\n",
       "others                            5\n",
       "changed number                    3"
      ]
     },
     "execution_count": 8,
     "metadata": {},
     "output_type": "execute_result"
    }
   ],
   "source": [
    "# Summary of the differnt types of engagement\n",
    "df.groupby('type').agg(no_of_engagements = ('date','count'))\\\n",
    ".sort_values('no_of_engagements', ascending=False)"
   ]
  },
  {
   "cell_type": "code",
   "execution_count": 10,
   "id": "b275667f",
   "metadata": {},
   "outputs": [],
   "source": [
    "df_messages = df[df.type == \"message\"] # an extract of only message engagements"
   ]
  },
  {
   "cell_type": "code",
   "execution_count": 11,
   "id": "5ddb2faf",
   "metadata": {},
   "outputs": [],
   "source": [
    "# extracting hours from the time column\n",
    "df_messages[\"hours\"] = df_messages.time\n",
    "def time_to_hours(x):\n",
    "    t = str(x)\n",
    "    hour = t.split(\":\")[0]\n",
    "    hour = int(hour)\n",
    "    if hour < 4:\n",
    "        return \"0 - 3\"\n",
    "    elif hour < 7:\n",
    "        return \"4 - 6\"\n",
    "    elif hour < 10:\n",
    "        return \"7 - 9\"\n",
    "    elif hour < 13:\n",
    "        return \"10 - 12\"\n",
    "    elif hour < 16:\n",
    "        return \"13 - 15\"\n",
    "    elif hour < 19:\n",
    "        return \"16 - 18\"\n",
    "    elif hour < 22:\n",
    "        return \"19 - 21\"\n",
    "    else:\n",
    "        return \"22 - 23\"   \n",
    "df_messages.hours = df_messages.hours.apply(time_to_hours)"
   ]
  },
  {
   "cell_type": "code",
   "execution_count": 12,
   "id": "f3af2564",
   "metadata": {},
   "outputs": [
    {
     "data": {
      "text/html": [
       "<div>\n",
       "<style scoped>\n",
       "    .dataframe tbody tr th:only-of-type {\n",
       "        vertical-align: middle;\n",
       "    }\n",
       "\n",
       "    .dataframe tbody tr th {\n",
       "        vertical-align: top;\n",
       "    }\n",
       "\n",
       "    .dataframe thead th {\n",
       "        text-align: right;\n",
       "    }\n",
       "</style>\n",
       "<table border=\"1\" class=\"dataframe\">\n",
       "  <thead>\n",
       "    <tr style=\"text-align: right;\">\n",
       "      <th></th>\n",
       "      <th></th>\n",
       "      <th>No_of_engagements</th>\n",
       "    </tr>\n",
       "    <tr>\n",
       "      <th>year</th>\n",
       "      <th>month</th>\n",
       "      <th></th>\n",
       "    </tr>\n",
       "  </thead>\n",
       "  <tbody>\n",
       "    <tr>\n",
       "      <th rowspan=\"7\" valign=\"top\">2023</th>\n",
       "      <th>6</th>\n",
       "      <td>44</td>\n",
       "    </tr>\n",
       "    <tr>\n",
       "      <th>7</th>\n",
       "      <td>76</td>\n",
       "    </tr>\n",
       "    <tr>\n",
       "      <th>8</th>\n",
       "      <td>62</td>\n",
       "    </tr>\n",
       "    <tr>\n",
       "      <th>9</th>\n",
       "      <td>47</td>\n",
       "    </tr>\n",
       "    <tr>\n",
       "      <th>10</th>\n",
       "      <td>52</td>\n",
       "    </tr>\n",
       "    <tr>\n",
       "      <th>11</th>\n",
       "      <td>15</td>\n",
       "    </tr>\n",
       "    <tr>\n",
       "      <th>12</th>\n",
       "      <td>15</td>\n",
       "    </tr>\n",
       "    <tr>\n",
       "      <th rowspan=\"5\" valign=\"top\">2024</th>\n",
       "      <th>1</th>\n",
       "      <td>20</td>\n",
       "    </tr>\n",
       "    <tr>\n",
       "      <th>2</th>\n",
       "      <td>81</td>\n",
       "    </tr>\n",
       "    <tr>\n",
       "      <th>3</th>\n",
       "      <td>132</td>\n",
       "    </tr>\n",
       "    <tr>\n",
       "      <th>4</th>\n",
       "      <td>62</td>\n",
       "    </tr>\n",
       "    <tr>\n",
       "      <th>5</th>\n",
       "      <td>7</td>\n",
       "    </tr>\n",
       "  </tbody>\n",
       "</table>\n",
       "</div>"
      ],
      "text/plain": [
       "            No_of_engagements\n",
       "year month                   \n",
       "2023 6                     44\n",
       "     7                     76\n",
       "     8                     62\n",
       "     9                     47\n",
       "     10                    52\n",
       "     11                    15\n",
       "     12                    15\n",
       "2024 1                     20\n",
       "     2                     81\n",
       "     3                    132\n",
       "     4                     62\n",
       "     5                      7"
      ]
     },
     "execution_count": 12,
     "metadata": {},
     "output_type": "execute_result"
    }
   ],
   "source": [
    "chat_by_month = df_messages.groupby(['year', 'month']).\\\n",
    "agg(No_of_engagements = ('date','count'))\n",
    "chat_by_month"
   ]
  },
  {
   "cell_type": "code",
   "execution_count": 13,
   "id": "6df87205",
   "metadata": {},
   "outputs": [
    {
     "data": {
      "image/png": "[encoded data removed]",
      "text/plain": [
       "<Figure size 1000x400 with 1 Axes>"
      ]
     },
     "metadata": {},
     "output_type": "display_data"
    }
   ],
   "source": [
    "fig, ax = plt.subplots(figsize=(10, 4))\n",
    "chat_by_month.plot(title=\"Chat volumn trend\", xlabel=\"year, month\",\n",
    "                            ylabel=\"Number of chats\", colormap = 'turbo', ax = ax)\n",
    "ax.spines['top'].set_visible(False)\n",
    "# ax.spines['bottom'].set_visible(False)\n",
    "# ax.spines['left'].set_visible(False)\n",
    "ax.spines['right'].set_visible(False)"
   ]
  },
  {
   "cell_type": "code",
   "execution_count": 14,
   "id": "c3059e3e",
   "metadata": {},
   "outputs": [
    {
     "data": {
      "text/html": [
       "<div>\n",
       "<style scoped>\n",
       "    .dataframe tbody tr th:only-of-type {\n",
       "        vertical-align: middle;\n",
       "    }\n",
       "\n",
       "    .dataframe tbody tr th {\n",
       "        vertical-align: top;\n",
       "    }\n",
       "\n",
       "    .dataframe thead th {\n",
       "        text-align: right;\n",
       "    }\n",
       "</style>\n",
       "<table border=\"1\" class=\"dataframe\">\n",
       "  <thead>\n",
       "    <tr style=\"text-align: right;\">\n",
       "      <th></th>\n",
       "      <th>no_of_chats</th>\n",
       "    </tr>\n",
       "    <tr>\n",
       "      <th>name</th>\n",
       "      <th></th>\n",
       "    </tr>\n",
       "  </thead>\n",
       "  <tbody>\n",
       "    <tr>\n",
       "      <th>~klemz:</th>\n",
       "      <td>231</td>\n",
       "    </tr>\n",
       "    <tr>\n",
       "      <th>Okeoma GeoStat:</th>\n",
       "      <td>66</td>\n",
       "    </tr>\n",
       "    <tr>\n",
       "      <th>Uzodimma PyCom:</th>\n",
       "      <td>34</td>\n",
       "    </tr>\n",
       "    <tr>\n",
       "      <th>Maggie ❤️:</th>\n",
       "      <td>31</td>\n",
       "    </tr>\n",
       "    <tr>\n",
       "      <th>Joe Ibe Pycom:</th>\n",
       "      <td>18</td>\n",
       "    </tr>\n",
       "    <tr>\n",
       "      <th>...</th>\n",
       "      <td>...</td>\n",
       "    </tr>\n",
       "    <tr>\n",
       "      <th>+234 904 157 9470:</th>\n",
       "      <td>1</td>\n",
       "    </tr>\n",
       "    <tr>\n",
       "      <th>Chijioke Larryson:</th>\n",
       "      <td>1</td>\n",
       "    </tr>\n",
       "    <tr>\n",
       "      <th>Charles I Pycom:</th>\n",
       "      <td>1</td>\n",
       "    </tr>\n",
       "    <tr>\n",
       "      <th>Anthony A. I Pycom:</th>\n",
       "      <td>1</td>\n",
       "    </tr>\n",
       "    <tr>\n",
       "      <th>Anyone in this group is now a community member</th>\n",
       "      <td>1</td>\n",
       "    </tr>\n",
       "  </tbody>\n",
       "</table>\n",
       "<p>77 rows × 1 columns</p>\n",
       "</div>"
      ],
      "text/plain": [
       "                                                no_of_chats\n",
       "name                                                       \n",
       " ~klemz:                                                231\n",
       " Okeoma GeoStat:                                         66\n",
       " Uzodimma PyCom:                                         34\n",
       " Maggie ❤️:                                              31\n",
       " Joe Ibe Pycom:                                          18\n",
       "...                                                     ...\n",
       " +234 904 157 9470:                                       1\n",
       " Chijioke Larryson:                                       1\n",
       " Charles I Pycom:                                         1\n",
       " Anthony A. I Pycom:                                      1\n",
       "Anyone in this group is now a community member            1\n",
       "\n",
       "[77 rows x 1 columns]"
      ]
     },
     "execution_count": 14,
     "metadata": {},
     "output_type": "execute_result"
    }
   ],
   "source": [
    "df_messages.groupby('name').agg(no_of_chats = ('date','count'))\\\n",
    ".sort_values('no_of_chats', ascending=False) \n",
    "# see the individuals in the group by number of engagements"
   ]
  },
  {
   "cell_type": "code",
   "execution_count": 15,
   "id": "7c32bd89",
   "metadata": {},
   "outputs": [
    {
     "data": {
      "text/html": [
       "<div>\n",
       "<style scoped>\n",
       "    .dataframe tbody tr th:only-of-type {\n",
       "        vertical-align: middle;\n",
       "    }\n",
       "\n",
       "    .dataframe tbody tr th {\n",
       "        vertical-align: top;\n",
       "    }\n",
       "\n",
       "    .dataframe thead th {\n",
       "        text-align: right;\n",
       "    }\n",
       "</style>\n",
       "<table border=\"1\" class=\"dataframe\">\n",
       "  <thead>\n",
       "    <tr style=\"text-align: right;\">\n",
       "      <th></th>\n",
       "      <th>no_of_chats</th>\n",
       "    </tr>\n",
       "    <tr>\n",
       "      <th>hours</th>\n",
       "      <th></th>\n",
       "    </tr>\n",
       "  </thead>\n",
       "  <tbody>\n",
       "    <tr>\n",
       "      <th>19 - 21</th>\n",
       "      <td>139</td>\n",
       "    </tr>\n",
       "    <tr>\n",
       "      <th>10 - 12</th>\n",
       "      <td>135</td>\n",
       "    </tr>\n",
       "    <tr>\n",
       "      <th>7 - 9</th>\n",
       "      <td>118</td>\n",
       "    </tr>\n",
       "    <tr>\n",
       "      <th>16 - 18</th>\n",
       "      <td>82</td>\n",
       "    </tr>\n",
       "    <tr>\n",
       "      <th>13 - 15</th>\n",
       "      <td>65</td>\n",
       "    </tr>\n",
       "    <tr>\n",
       "      <th>22 - 23</th>\n",
       "      <td>46</td>\n",
       "    </tr>\n",
       "    <tr>\n",
       "      <th>4 - 6</th>\n",
       "      <td>19</td>\n",
       "    </tr>\n",
       "    <tr>\n",
       "      <th>0 - 3</th>\n",
       "      <td>9</td>\n",
       "    </tr>\n",
       "  </tbody>\n",
       "</table>\n",
       "</div>"
      ],
      "text/plain": [
       "         no_of_chats\n",
       "hours               \n",
       "19 - 21          139\n",
       "10 - 12          135\n",
       "7 - 9            118\n",
       "16 - 18           82\n",
       "13 - 15           65\n",
       "22 - 23           46\n",
       "4 - 6             19\n",
       "0 - 3              9"
      ]
     },
     "execution_count": 15,
     "metadata": {},
     "output_type": "execute_result"
    }
   ],
   "source": [
    "active_hours = df_messages.groupby('hours').agg(no_of_chats = ('date','count'))\\\n",
    ".sort_values('no_of_chats', ascending=False)\n",
    "active_hours"
   ]
  },
  {
   "cell_type": "code",
   "execution_count": 16,
   "id": "05615f4f",
   "metadata": {},
   "outputs": [],
   "source": [
    "# All the adding and joining engagements\n",
    "df_joined = df[(df.type == \"joined\") | (df.type == \"added\")]"
   ]
  },
  {
   "cell_type": "code",
   "execution_count": 17,
   "id": "5968a129",
   "metadata": {},
   "outputs": [
    {
     "data": {
      "text/html": [
       "<div>\n",
       "<style scoped>\n",
       "    .dataframe tbody tr th:only-of-type {\n",
       "        vertical-align: middle;\n",
       "    }\n",
       "\n",
       "    .dataframe tbody tr th {\n",
       "        vertical-align: top;\n",
       "    }\n",
       "\n",
       "    .dataframe thead th {\n",
       "        text-align: right;\n",
       "    }\n",
       "</style>\n",
       "<table border=\"1\" class=\"dataframe\">\n",
       "  <thead>\n",
       "    <tr style=\"text-align: right;\">\n",
       "      <th></th>\n",
       "      <th></th>\n",
       "      <th>No_of_joins</th>\n",
       "    </tr>\n",
       "    <tr>\n",
       "      <th>year</th>\n",
       "      <th>month</th>\n",
       "      <th></th>\n",
       "    </tr>\n",
       "  </thead>\n",
       "  <tbody>\n",
       "    <tr>\n",
       "      <th rowspan=\"6\" valign=\"top\">2023</th>\n",
       "      <th>7</th>\n",
       "      <td>3</td>\n",
       "    </tr>\n",
       "    <tr>\n",
       "      <th>8</th>\n",
       "      <td>5</td>\n",
       "    </tr>\n",
       "    <tr>\n",
       "      <th>9</th>\n",
       "      <td>3</td>\n",
       "    </tr>\n",
       "    <tr>\n",
       "      <th>10</th>\n",
       "      <td>3</td>\n",
       "    </tr>\n",
       "    <tr>\n",
       "      <th>11</th>\n",
       "      <td>1</td>\n",
       "    </tr>\n",
       "    <tr>\n",
       "      <th>12</th>\n",
       "      <td>1</td>\n",
       "    </tr>\n",
       "    <tr>\n",
       "      <th rowspan=\"5\" valign=\"top\">2024</th>\n",
       "      <th>1</th>\n",
       "      <td>1</td>\n",
       "    </tr>\n",
       "    <tr>\n",
       "      <th>2</th>\n",
       "      <td>29</td>\n",
       "    </tr>\n",
       "    <tr>\n",
       "      <th>3</th>\n",
       "      <td>39</td>\n",
       "    </tr>\n",
       "    <tr>\n",
       "      <th>4</th>\n",
       "      <td>18</td>\n",
       "    </tr>\n",
       "    <tr>\n",
       "      <th>5</th>\n",
       "      <td>3</td>\n",
       "    </tr>\n",
       "  </tbody>\n",
       "</table>\n",
       "</div>"
      ],
      "text/plain": [
       "            No_of_joins\n",
       "year month             \n",
       "2023 7                3\n",
       "     8                5\n",
       "     9                3\n",
       "     10               3\n",
       "     11               1\n",
       "     12               1\n",
       "2024 1                1\n",
       "     2               29\n",
       "     3               39\n",
       "     4               18\n",
       "     5                3"
      ]
     },
     "execution_count": 17,
     "metadata": {},
     "output_type": "execute_result"
    }
   ],
   "source": [
    "joinings_by_month = df_joined.groupby(['year', 'month']).\\\n",
    "agg(No_of_joins = ('date','count'))\n",
    "joinings_by_month"
   ]
  },
  {
   "cell_type": "code",
   "execution_count": null,
   "id": "dc424c86",
   "metadata": {},
   "outputs": [],
   "source": [
    "# Exporting of relevant dataframes as csv\n",
    "# df.to_csv('python_gro_chat.csv', index = False)\n",
    "# active_hours.to_csv('python_gro_active_hours.csv')"
   ]
  },
  {
   "cell_type": "markdown",
   "id": "a8d650bb",
   "metadata": {},
   "source": [
    "### Text analysis"
   ]
  },
  {
   "cell_type": "code",
   "execution_count": 18,
   "id": "2744b821",
   "metadata": {},
   "outputs": [],
   "source": [
    "# Extract relevant section of messages dataframe for text analysis\n",
    "df_msg_details = df_messages[[\"name\", \"detail\"]]"
   ]
  },
  {
   "cell_type": "markdown",
   "id": "6e023f6f",
   "metadata": {},
   "source": [
    "#### Data preparation for text analysis"
   ]
  },
  {
   "cell_type": "code",
   "execution_count": 20,
   "id": "1b4a8a38",
   "metadata": {},
   "outputs": [],
   "source": [
    "# set stop words\n",
    "stop_words = set(stopwords.words('english'))"
   ]
  },
  {
   "cell_type": "code",
   "execution_count": 21,
   "id": "367ab6d7",
   "metadata": {},
   "outputs": [],
   "source": [
    "#replace anycharacter not a-zA-Z with white space\n",
    "rt = lambda x: re.sub(\"[^a-zA-Z]\", ' ',str(x))\n",
    "df_msg_details['detail'] = df_msg_details['detail'].map(rt)\n",
    "# transform chat details to all lowercase\n",
    "df_msg_details['detail'] = df_msg_details['detail'].str.lower()\n",
    "# To remove any whitespaces from front and back of string\n",
    "df_msg_details['detail'] = df_msg_details.detail.apply(lambda x: x.strip())\n",
    "# To preprocess text data\n",
    "df_msg_details['detail'] = df_msg_details.detail.apply(lambda x: simple_preprocess(x))\n",
    "# Define a function to remove stop words\n",
    "def remove_stop_words(words):\n",
    "    filtered_ = [word for word in words if word not in stop_words]\n",
    "    return filtered_\n",
    "# apply stop word removal\n",
    "df_msg_details['detail'] = df_msg_details['detail'].apply(remove_stop_words)"
   ]
  },
  {
   "cell_type": "markdown",
   "id": "bc6a31fe",
   "metadata": {},
   "source": [
    "#### Topic modeling"
   ]
  },
  {
   "cell_type": "code",
   "execution_count": 22,
   "id": "bd3843f5",
   "metadata": {},
   "outputs": [],
   "source": [
    "# create gensim dictionary\n",
    "gen_dict = corpora.Dictionary(df_msg_details['detail'])\n",
    "# create bag of eords from generated dictionary object\n",
    "gen_corpus = [gen_dict.doc2bow(doc) for doc in df_msg_details['detail']]"
   ]
  },
  {
   "cell_type": "code",
   "execution_count": 35,
   "id": "a9aaf437",
   "metadata": {},
   "outputs": [],
   "source": [
    "# Train LDA topic\n",
    "lda_model = LdaModel(corpus = gen_corpus, id2word=gen_dict, \\\n",
    "                     num_topics = 5, passes=15, random_state = 0)"
   ]
  },
  {
   "cell_type": "code",
   "execution_count": 24,
   "id": "80cd57cd",
   "metadata": {},
   "outputs": [
    {
     "data": {
      "text/plain": [
       "['0.018*\"ai\" + 0.015*\"new\" + 0.012*\"month\" + 0.012*\"python\" + 0.009*\"list\"',\n",
       " '0.045*\"media\" + 0.042*\"omitted\" + 0.024*\"thank\" + 0.015*\"thanks\" + 0.011*\"hello\"',\n",
       " '0.035*\"community\" + 0.015*\"https\" + 0.015*\"us\" + 0.014*\"anambra\" + 0.011*\"everyone\"',\n",
       " '0.011*\"https\" + 0.011*\"tech\" + 0.010*\"com\" + 0.009*\"internship\" + 0.008*\"skills\"',\n",
       " '0.033*\"good\" + 0.028*\"everyone\" + 0.018*\"morning\" + 0.010*\"evening\" + 0.009*\"resume\"']"
      ]
     },
     "execution_count": 24,
     "metadata": {},
     "output_type": "execute_result"
    }
   ],
   "source": [
    "# Extract topic as text\n",
    "topic_as_text = []\n",
    "for topic in lda_model.print_topics(num_words =5):\n",
    "    # the number of words can be changed\n",
    "    topic_as_text.append(topic[1])\n",
    "\n",
    "topic_as_text"
   ]
  },
  {
   "cell_type": "code",
   "execution_count": 25,
   "id": "8fa8ca7f",
   "metadata": {},
   "outputs": [
    {
     "name": "stdout",
     "output_type": "stream",
     "text": [
      "[['0.018*\"ai\"', '0.015*\"new\"', '0.012*\"month\"', '0.012*\"python\"', '0.009*\"list\"'], ['0.045*\"media\"', '0.042*\"omitted\"', '0.024*\"thank\"', '0.015*\"thanks\"', '0.011*\"hello\"'], ['0.035*\"community\"', '0.015*\"https\"', '0.015*\"us\"', '0.014*\"anambra\"', '0.011*\"everyone\"'], ['0.011*\"https\"', '0.011*\"tech\"', '0.010*\"com\"', '0.009*\"internship\"', '0.008*\"skills\"'], ['0.033*\"good\"', '0.028*\"everyone\"', '0.018*\"morning\"', '0.010*\"evening\"', '0.009*\"resume\"']]\n"
     ]
    }
   ],
   "source": [
    "# replace all the \" + \" with \",\" in the topic_as_text\n",
    "topic_as_text = [t.replace(' + ',',') for t in topic_as_text]\n",
    "# split the text by \",\" to get a list of a topic and \n",
    "# its phi value(liklihood of text being that topic)\n",
    "topic_as_text = [t.split(',') for t in topic_as_text]\n",
    "print(topic_as_text)"
   ]
  },
  {
   "cell_type": "code",
   "execution_count": 26,
   "id": "ece66044",
   "metadata": {},
   "outputs": [
    {
     "name": "stdout",
     "output_type": "stream",
     "text": [
      "[['ai', 'new', 'month', 'python', 'list'], ['media', 'omitted', 'thank', 'thanks', 'hello'], ['community', 'https', 'us', 'anambra', 'everyone'], ['https', 'tech', 'com', 'internship', 'skills'], ['good', 'everyone', 'morning', 'evening', 'resume']]\n"
     ]
    }
   ],
   "source": [
    "# see the best topics\n",
    "best_topics = []\n",
    "for topics in topic_as_text:\n",
    "    best_topics_ = []\n",
    "    for t in topics:\n",
    "        # match the topics only\n",
    "        match_topics = re.match(r'(^(.*)(\")(.*)(\")(.*)$)', t)\n",
    "        best_topics_.append(match_topics.group(4))\n",
    "    best_topics.append(best_topics_)\n",
    "print(best_topics)"
   ]
  },
  {
   "cell_type": "code",
   "execution_count": 27,
   "id": "8ab01c34",
   "metadata": {},
   "outputs": [
    {
     "data": {
      "text/plain": [
       "['web analytics and data',\n",
       " 'social inclusion',\n",
       " 'career development',\n",
       " 'AI and Assistance',\n",
       " 'Python and monthly activities']"
      ]
     },
     "execution_count": 27,
     "metadata": {},
     "output_type": "execute_result"
    }
   ],
   "source": [
    "topics_summary = [\"web analytics and data\", \"social inclusion\", \\\n",
    "              \"career development\", \"AI and Assistance\", \"Python and monthly activities\"]\n",
    "topics_summary"
   ]
  },
  {
   "cell_type": "code",
   "execution_count": 28,
   "id": "4e49fdec",
   "metadata": {},
   "outputs": [],
   "source": [
    "# Extract Topic models\n",
    "df_msg_details['topics'] = df_msg_details['detail']\\\n",
    ".apply(lambda x: lda_model[gen_dict.doc2bow(x)])"
   ]
  },
  {
   "cell_type": "code",
   "execution_count": 30,
   "id": "c9031ce6",
   "metadata": {},
   "outputs": [],
   "source": [
    "# Extracting the topics fro the topic models using the topic_summary\n",
    "def topic_select(x):\n",
    "    for t in x:\n",
    "        if t[1] == max(x, key= lambda tp: tp[1])[1]:\n",
    "            if t[0] == 0:\n",
    "                return \"Web Analytics and Data\"\n",
    "            elif t[0] == 1:\n",
    "                return \"Social Inclusion\"\n",
    "            elif t[0] == 2:\n",
    "                return \"Career Development\"\n",
    "            elif t[0] == 3:\n",
    "                return \"AI and Assistance\"\n",
    "            elif t[0] == 4:\n",
    "                return \"Python and monthly activities\"\n",
    "\n",
    "df_msg_details['topic'] = df_msg_details['topics'].apply(topic_select)"
   ]
  },
  {
   "cell_type": "code",
   "execution_count": 31,
   "id": "bb1aa6ea",
   "metadata": {},
   "outputs": [
    {
     "data": {
      "text/html": [
       "<div>\n",
       "<style scoped>\n",
       "    .dataframe tbody tr th:only-of-type {\n",
       "        vertical-align: middle;\n",
       "    }\n",
       "\n",
       "    .dataframe tbody tr th {\n",
       "        vertical-align: top;\n",
       "    }\n",
       "\n",
       "    .dataframe thead th {\n",
       "        text-align: right;\n",
       "    }\n",
       "</style>\n",
       "<table border=\"1\" class=\"dataframe\">\n",
       "  <thead>\n",
       "    <tr style=\"text-align: right;\">\n",
       "      <th></th>\n",
       "      <th>no_of_times</th>\n",
       "    </tr>\n",
       "    <tr>\n",
       "      <th>topic</th>\n",
       "      <th></th>\n",
       "    </tr>\n",
       "  </thead>\n",
       "  <tbody>\n",
       "    <tr>\n",
       "      <th>Social Inclusion</th>\n",
       "      <td>164</td>\n",
       "    </tr>\n",
       "    <tr>\n",
       "      <th>Python and monthly activities</th>\n",
       "      <td>139</td>\n",
       "    </tr>\n",
       "    <tr>\n",
       "      <th>Career Development</th>\n",
       "      <td>125</td>\n",
       "    </tr>\n",
       "    <tr>\n",
       "      <th>Web Analytics and Data</th>\n",
       "      <td>100</td>\n",
       "    </tr>\n",
       "    <tr>\n",
       "      <th>AI and Assistance</th>\n",
       "      <td>85</td>\n",
       "    </tr>\n",
       "  </tbody>\n",
       "</table>\n",
       "</div>"
      ],
      "text/plain": [
       "                               no_of_times\n",
       "topic                                     \n",
       "Social Inclusion                       164\n",
       "Python and monthly activities          139\n",
       "Career Development                     125\n",
       "Web Analytics and Data                 100\n",
       "AI and Assistance                       85"
      ]
     },
     "execution_count": 31,
     "metadata": {},
     "output_type": "execute_result"
    }
   ],
   "source": [
    "Popular_topics = df_msg_details.groupby('topic').agg(no_of_times = ('name','count'))\\\n",
    ".sort_values('no_of_times', ascending=False)\n",
    "Popular_topics"
   ]
  },
  {
   "cell_type": "code",
   "execution_count": null,
   "id": "c9774ec5",
   "metadata": {},
   "outputs": [],
   "source": [
    "# export to csv\n",
    "# Popular_topics.to_csv('python_Popular_topics.csv')"
   ]
  },
  {
   "cell_type": "markdown",
   "id": "3e3d8698",
   "metadata": {},
   "source": [
    "#### Sentiment analysis"
   ]
  },
  {
   "cell_type": "code",
   "execution_count": 32,
   "id": "17b447e4",
   "metadata": {},
   "outputs": [],
   "source": [
    "# function to rejoin words that were splitted during cleaning\n",
    "def rejoin_words(list_):\n",
    "    words = ' '.join([word for word in list_])\n",
    "    return words\n",
    "# apply the function\n",
    "df_msg_details['detail_'] = df_msg_details['detail'].apply(rejoin_words)"
   ]
  },
  {
   "cell_type": "code",
   "execution_count": 33,
   "id": "0b11290a",
   "metadata": {},
   "outputs": [],
   "source": [
    "# function to generate sentiment of individual chats\n",
    "for index, row in df_msg_details['detail_'].items():\n",
    "    \n",
    "    score = SentimentIntensityAnalyzer().polarity_scores(row)\n",
    "    \n",
    "    neg = score['neg']\n",
    "    neu = score['neu']\n",
    "    pos = score['pos']\n",
    "    \n",
    "    if neg > pos:\n",
    "        df_msg_details.loc[index, 'sentiment'] = 'Negative'\n",
    "    elif pos > neg:\n",
    "        df_msg_details.loc[index, 'sentiment'] = 'Posetive'\n",
    "    else:\n",
    "        df_msg_details.loc[index, 'sentiment'] = 'Neutral'"
   ]
  },
  {
   "cell_type": "code",
   "execution_count": 34,
   "id": "334d5d2c",
   "metadata": {},
   "outputs": [],
   "source": [
    "# extract for export, relevant portion of dataframe for sentiment analysis\n",
    "df_msg_details2 = df_msg_details[[\"name\", \"detail_\", \"sentiment\"]]"
   ]
  },
  {
   "cell_type": "code",
   "execution_count": null,
   "id": "98089a81",
   "metadata": {},
   "outputs": [],
   "source": [
    "# Export to csv for data visualization and dashboard creation\n",
    "# df_msg_details2.to_csv('python_gro_chat_sentiment.csv', index = False)"
   ]
  },
  {
   "cell_type": "code",
   "execution_count": null,
   "id": "3b176963",
   "metadata": {},
   "outputs": [],
   "source": []
  }
 ],
 "metadata": {
  "kernelspec": {
   "display_name": "Python 3 (ipykernel)",
   "language": "python",
   "name": "python3"
  },
  "language_info": {
   "codemirror_mode": {
    "name": "ipython",
    "version": 3
   },
   "file_extension": ".py",
   "mimetype": "text/x-python",
   "name": "python",
   "nbconvert_exporter": "python",
   "pygments_lexer": "ipython3",
   "version": "3.9.12"
  }
 },
 "nbformat": 4,
 "nbformat_minor": 5
}
