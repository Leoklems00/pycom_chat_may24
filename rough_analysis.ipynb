{
 "cells": [
  {
   "cell_type": "markdown",
   "id": "645e9369",
   "metadata": {},
   "source": []
  },
  {
   "cell_type": "code",
   "execution_count": 1,
   "id": "0f434a42",
   "metadata": {},
   "outputs": [],
   "source": [
    "import nltk\n",
    "import numpy as np\n",
    "import matplotlib.pyplot as plt\n",
    "import pandas as pd\n",
    "import seaborn as sns\n",
    "import re\n",
    "from nltk.tokenize import word_tokenize\n",
    "from nltk.sentiment.vader import SentimentIntensityAnalyzer\n",
    "from nltk.corpus import stopwords\n",
    "from textblob import TextBlob\n",
    "# from wordcloud import WordCloud\n",
    "from gensim.utils import simple_preprocess\n",
    "from gensim.models import LdaModel\n",
    "from gensim import corpora\n",
    "# from gensim.corpora import list2dict\n",
    "from tqdm.notebook import tqdm # a progress bar tracker\n",
    "\n",
    "import warnings\n",
    "warnings.filterwarnings(\"ignore\")\n",
    "warnings.warn(\"this will not show\")\n",
    "pd.set_option('display.max_columns', None)"
   ]
  },
  {
   "cell_type": "markdown",
   "id": "ff33f046",
   "metadata": {},
   "source": [
    "### Data Extraction Transformation and Loading (ETL)"
   ]
  },
  {
   "cell_type": "code",
   "execution_count": 3,
   "id": "35518053",
   "metadata": {
    "scrolled": true
   },
   "outputs": [],
   "source": [
    "data = []\n",
    "# mes = \"message\"\n",
    "# match = re.match(r'^(\\d{2}/\\d{2}/\\d{2}, \\d{2}:\\d{2} AM|PM - )')\n",
    "with open('pycom_chat1.txt', 'r', encoding='utf-8') as f:\n",
    "    for line in f:\n",
    "        line = line.strip()\n",
    "        match = re.match(r'^(\\d{1,2}\\/\\d{1,2}\\/\\d{1,2}, \\d{1,2}:\\d{1,2}\\s{1}(AM|PM))(\\s{1}-(\\s{1}.*:(?= )))(.*)$', line)\n",
    "        match_left = re.match(r'^(\\d{1,2}\\/\\d{1,2}\\/\\d{1,2}, \\d{1,2}:\\d{1,2}\\s{1}(AM|PM))(\\s{1}-(\\s{1}))((.*)(left)$)', line)\n",
    "        match_add = re.match(r'^(\\d{1,2}\\/\\d{1,2}\\/\\d{1,2}, \\d{1,2}:\\d{1,2}\\s{1}(AM|PM))(\\s{1}-(\\s{1}))((.*)(added)(.*)$)', line)\n",
    "        match_req = re.match(r'^(\\d{1,2}\\/\\d{1,2}\\/\\d{1,2}, \\d{1,2}:\\d{1,2}\\s{1}(AM|PM))(\\s{1}-(\\s{1}))((.*)(requested to join.)$)', line)\n",
    "        match_joined = re.match(r'^(\\d{1,2}\\/\\d{1,2}\\/\\d{1,2}, \\d{1,2}:\\d{1,2}\\s{1}(AM|PM))(\\s{1}-(\\s{1}))((.*)(joined using this group\\'s invite link)$)', line)\n",
    "        match_join_frm_com = re.match(r'^(\\d{1,2}\\/\\d{1,2}\\/\\d{1,2}, \\d{1,2}:\\d{1,2}\\s{1}(AM|PM))(\\s{1}-(\\s{1}))((.*)(joined from the community)$)', line)\n",
    "        match_pinned_mes = re.match(r'^(\\d{1,2}\\/\\d{1,2}\\/\\d{1,2}, \\d{1,2}:\\d{1,2}\\s{1}(AM|PM))(\\s{1}-(\\s{1}))((.*)(pinned a message)$)', line)\n",
    "        match_change_num = re.match(r'^(\\d{1,2}\\/\\d{1,2}\\/\\d{1,2}, \\d{1,2}:\\d{1,2}\\s{1}(AM|PM))(\\s{1}-(\\s{1}))((.*)(Tap to message or add the new number.)$)', line)\n",
    "        match_joined_by_my_invite = re.match(r'^(\\d{1,2}\\/\\d{1,2}\\/\\d{1,2}, \\d{1,2}:\\d{1,2}\\s{1}(AM|PM))(\\s{1}-(\\s{1}))((.*)(joined using your invite)$)', line)\n",
    "        match_others_1 = re.match(r'^(\\d{1,2}\\/\\d{1,2}\\/\\d{1,2}, \\d{1,2}:\\d{1,2}\\s{1}(AM|PM))(\\s{1}-(\\s{1}))((.*)(except when kept.)$)', line)\n",
    "        match_others_2 = re.match(r'^(\\d{1,2}\\/\\d{1,2}\\/\\d{1,2}, \\d{1,2}:\\d{1,2}\\s{1}(AM|PM))(\\s{1}-(\\s{1}))((.*)(disappearing messages.)$)', line)\n",
    "        match_others_3 = re.match(r'^(\\d{1,2}\\/\\d{1,2}\\/\\d{1,2}, \\d{1,2}:\\d{1,2}\\s{1}(AM|PM))(\\s{1}-(\\s{1}))((You removed)(.*)$)', line)\n",
    "        match_others_4 = re.match(r'^(\\d{1,2}\\/\\d{1,2}\\/\\d{1,2}, \\d{1,2}:\\d{1,2}\\s{1}(AM|PM))(\\s{1}-(\\s{1}))((Anyone in this group is now a community member)(.*)$)', line)\n",
    "        match_others_5 = re.match(r'^(\\d{1,2}\\/\\d{1,2}\\/\\d{1,2}, \\d{1,2}:\\d{1,2}\\s{1}(AM|PM))(\\s{1}-(\\s{1}))((.*)(changed to)(.*)$)', line)\n",
    "        \n",
    "        \n",
    "        if match:\n",
    "            global p1\n",
    "            p1 = match.group(1)\n",
    "            global p2\n",
    "            p2 = match.group(4)\n",
    "            global p3\n",
    "            p3 = match.group(5)\n",
    "            mes = \"message\"\n",
    "        elif match_left:\n",
    "            p1 = match_left.group(1)  \n",
    "            p2 = match_left.group(6)\n",
    "            p3 = match_left.group(7)\n",
    "            mes = \"left\"\n",
    "        elif match_add:\n",
    "            p1 = match_add.group(1)  \n",
    "            p2 = match_add.group(6)\n",
    "            p3 = match_add.group(7)+\" \"+match_add.group(8)\n",
    "            mes = \"added\"\n",
    "        elif match_req:\n",
    "            p1 = match_req.group(1)  \n",
    "            p2 = match_req.group(6)\n",
    "            p3 = match_req.group(7)\n",
    "            mes = \"join request\"\n",
    "        elif match_joined:\n",
    "            p1 = match_joined.group(1)  \n",
    "            p2 = match_joined.group(6)\n",
    "            p3 = match_joined.group(7)\n",
    "            mes = \"joined\"\n",
    "        elif match_join_frm_com:\n",
    "            p1 = match_join_frm_com.group(1)  \n",
    "            p2 = match_join_frm_com.group(6)\n",
    "            p3 = match_join_frm_com.group(7)\n",
    "            mes = \"joined\"\n",
    "        elif match_joined_by_my_invite:\n",
    "            p1 = match_joined_by_my_invite.group(1)  \n",
    "            p2 = match_joined_by_my_invite.group(6)\n",
    "            p3 = match_joined_by_my_invite.group(7)\n",
    "            mes = \"joined\"\n",
    "        elif match_pinned_mes:\n",
    "            p1 = match_pinned_mes.group(1)  \n",
    "            p2 = match_pinned_mes.group(6)\n",
    "            p3 = match_pinned_mes.group(7)\n",
    "            mes = \"pinned a message\"\n",
    "        elif match_change_num:\n",
    "            p1 = match_change_num.group(1)  \n",
    "            p2 = match_change_num.group(6)\n",
    "            p3 = match_change_num.group(7)\n",
    "            mes = \"changed number\"\n",
    "        elif match_others_1:\n",
    "            p1 = match_others_1.group(1)  \n",
    "            p2 = match_others_1.group(6)\n",
    "            p3 = match_others_1.group(7)\n",
    "            mes = \"others\"\n",
    "        elif match_others_2:\n",
    "            p1 = match_others_2.group(1)  \n",
    "            p2 = match_others_2.group(6)\n",
    "            p3 = match_others_2.group(7)\n",
    "            mes = \"others\"\n",
    "        elif match_others_3:\n",
    "            p1 = match_others_3.group(1)  \n",
    "            p2 = match_others_3.group(6)\n",
    "            p3 = match_others_3.group(7)\n",
    "            mes = \"others\"\n",
    "        elif match_others_4:\n",
    "            p1 = match_others_4.group(1)  \n",
    "            p2 = match_others_4.group(6)\n",
    "            p3 = match_others_4.group(7)\n",
    "            mes = \"others\"\n",
    "        elif match_others_5:\n",
    "            p1 = match_others_5.group(1)  \n",
    "            p2 = match_others_5.group(6)\n",
    "            p3 = match_others_5.group(7)+\" \"+match_others_5.group(8)\n",
    "            mes = \"others\"\n",
    "        else:\n",
    "#             print(line)\n",
    "            p3 += \"\\n\"\n",
    "            p3 += line\n",
    "            mes = \"message\"\n",
    "            data.pop()\n",
    "        data.append([p1, p2, mes, p3])\n",
    "\n",
    "df = pd.DataFrame(data, columns = ['datetime', 'name', 'type', 'detail'])"
   ]
  },
  {
   "cell_type": "code",
   "execution_count": null,
   "id": "d34ddfa3",
   "metadata": {
    "scrolled": true
   },
   "outputs": [],
   "source": [
    "import chardet\n",
    "with open('pycom_chat1.txt', 'rb') as f:\n",
    "    rez = chardet.detect(f.read())\n",
    "    global charenc\n",
    "    charenc = rez['encoding']\n",
    "print(charenc)\n",
    "with open('pycom_chat1.txt', 'r', encoding='utf-8') as f:\n",
    "    for line in f:\n",
    "        line = line.strip()\n",
    "        # match = re.match(r'^(\\d{2}\\/\\d{2}\\/\\d{2}, \\d{2}:\\d{2} (AM|PM) -)((?<= ).*:(?= ))(.*)$', line)\n",
    "        match = re.match(r'^(\\d{1,2}\\/\\d{1,2}\\/\\d{1,2}, \\d{1,2}:\\d{1,2}\\s{1}(AM|PM))(\\s{1}-(\\s{1}))((.*)(changed to)(.*)$)', line)\n",
    "        \n",
    "        if match:\n",
    "            print(match.group(1))\n",
    "            print(match.group(2))\n",
    "            print(match.group(6))\n",
    "            print(match.group(8))         "
   ]
  },
  {
   "cell_type": "code",
   "execution_count": null,
   "id": "2739b78e",
   "metadata": {},
   "outputs": [],
   "source": [
    "with open('pycom_chat1.txt', 'r', encoding='utf-8') as f:\n",
    "    for line in f:\n",
    "        line = line.strip()\n",
    "        match = re.match(r'^(\\d{1,2}\\/\\d{1,2}\\/\\d{1,2}, \\d{1,2}:\\d{1,2}\\s{1}(AM|PM))(\\s{1}-(\\s{1}.*:(?= )))(.*)$', line)\n",
    "        match_left = re.match(r'^(\\d{1,2}\\/\\d{1,2}\\/\\d{1,2}, \\d{1,2}:\\d{1,2}\\s{1}(AM|PM))(\\s{1}-(\\s{1}))((.*)(left)$)', line)\n",
    "        match_add = re.match(r'^(\\d{1,2}\\/\\d{1,2}\\/\\d{1,2}, \\d{1,2}:\\d{1,2}\\s{1}(AM|PM))(\\s{1}-(\\s{1}))((.*)(added)(.*)$)', line)\n",
    "        match_req = re.match(r'^(\\d{1,2}\\/\\d{1,2}\\/\\d{1,2}, \\d{1,2}:\\d{1,2}\\s{1}(AM|PM))(\\s{1}-(\\s{1}))((.*)(requested to join.)$)', line)\n",
    "        match_joined = re.match(r'^(\\d{1,2}\\/\\d{1,2}\\/\\d{1,2}, \\d{1,2}:\\d{1,2}\\s{1}(AM|PM))(\\s{1}-(\\s{1}))((.*)(joined using this group\\'s invite link)$)', line)\n",
    "        match_join_frm_com = re.match(r'^(\\d{1,2}\\/\\d{1,2}\\/\\d{1,2}, \\d{1,2}:\\d{1,2}\\s{1}(AM|PM))(\\s{1}-(\\s{1}))((.*)(joined from the community)$)', line)\n",
    "        match_pinned_mes = re.match(r'^(\\d{1,2}\\/\\d{1,2}\\/\\d{1,2}, \\d{1,2}:\\d{1,2}\\s{1}(AM|PM))(\\s{1}-(\\s{1}))((.*)(pinned a message)$)', line)\n",
    "        match_change_num = re.match(r'^(\\d{1,2}\\/\\d{1,2}\\/\\d{1,2}, \\d{1,2}:\\d{1,2}\\s{1}(AM|PM))(\\s{1}-(\\s{1}))((.*)(Tap to message or add the new number.)$)', line)\n",
    "        match_joined_by_my_invite = re.match(r'^(\\d{1,2}\\/\\d{1,2}\\/\\d{1,2}, \\d{1,2}:\\d{1,2}\\s{1}(AM|PM))(\\s{1}-(\\s{1}))((.*)(joined using your invite)$)', line)\n",
    "        match_others_1 = re.match(r'^(\\d{1,2}\\/\\d{1,2}\\/\\d{1,2}, \\d{1,2}:\\d{1,2}\\s{1}(AM|PM))(\\s{1}-(\\s{1}))((.*)(except when kept.)$)', line)\n",
    "        match_others_2 = re.match(r'^(\\d{1,2}\\/\\d{1,2}\\/\\d{1,2}, \\d{1,2}:\\d{1,2}\\s{1}(AM|PM))(\\s{1}-(\\s{1}))((.*)(disappearing messages.)$)', line)\n",
    "        match_others_3 = re.match(r'^(\\d{1,2}\\/\\d{1,2}\\/\\d{1,2}, \\d{1,2}:\\d{1,2}\\s{1}(AM|PM))(\\s{1}-(\\s{1}))((You removed)(.*)$)', line)\n",
    "        match_others_4 = re.match(r'^(\\d{1,2}\\/\\d{1,2}\\/\\d{1,2}, \\d{1,2}:\\d{1,2}\\s{1}(AM|PM))(\\s{1}-(\\s{1}))((Anyone in this group is now a community member)(.*)$)', line)\n",
    "        \n",
    "        \n",
    "        if match:\n",
    "            global p1\n",
    "            p1 = match.group(1)\n",
    "            global p2\n",
    "            p2 = match.group(4)\n",
    "            global p3\n",
    "            p3 = match.group(5)\n",
    "            mes = \"message\"\n",
    "        elif match_left:\n",
    "            p1 = match_left.group(1)  \n",
    "            p2 = match_left.group(6)\n",
    "            p3 = match_left.group(7)\n",
    "            mes = \"left\"\n",
    "        elif match_add:\n",
    "            p1 = match_add.group(1)  \n",
    "            p2 = match_add.group(6)\n",
    "            p3 = match_add.group(7)+\" \"+match_add.group(8)\n",
    "            mes = \"added\"\n",
    "        elif match_req:\n",
    "            p1 = match_req.group(1)  \n",
    "            p2 = match_req.group(6)\n",
    "            p3 = match_req.group(7)\n",
    "            mes = \"join request\"\n",
    "        elif match_joined:\n",
    "            p1 = match_joined.group(1)  \n",
    "            p2 = match_joined.group(6)\n",
    "            p3 = match_joined.group(7)\n",
    "            mes = \"joined\"\n",
    "        elif match_join_frm_com:\n",
    "            p1 = match_join_frm_com.group(1)  \n",
    "            p2 = match_join_frm_com.group(6)\n",
    "            p3 = match_join_frm_com.group(7)\n",
    "            mes = \"joined\"\n",
    "        elif match_joined_by_my_invite:\n",
    "            p1 = match_joined_by_my_invite.group(1)  \n",
    "            p2 = match_joined_by_my_invite.group(6)\n",
    "            p3 = match_joined_by_my_invite.group(7)\n",
    "            mes = \"joined\"\n",
    "        elif match_pinned_mes:\n",
    "            p1 = match_pinned_mes.group(1)  \n",
    "            p2 = match_pinned_mes.group(6)\n",
    "            p3 = match_pinned_mes.group(7)\n",
    "            mes = \"pinned a message\"\n",
    "        elif match_change_num:\n",
    "            p1 = match_change_num.group(1)  \n",
    "            p2 = match_change_num.group(6)\n",
    "            p3 = match_change_num.group(7)\n",
    "            mes = \"changed number\"\n",
    "        elif match_others_1:\n",
    "            p1 = match_others_1.group(1)  \n",
    "            p2 = match_others_1.group(6)\n",
    "            p3 = match_others_1.group(7)\n",
    "            mes = \"others\"\n",
    "        elif match_others_2:\n",
    "            p1 = match_others_2.group(1)  \n",
    "            p2 = match_others_2.group(6)\n",
    "            p3 = match_others_2.group(7)\n",
    "            mes = \"others\"\n",
    "        elif match_others_3:\n",
    "            p1 = match_others_3.group(1)  \n",
    "            p2 = match_others_3.group(6)\n",
    "            p3 = match_others_3.group(7)\n",
    "            mes = \"others\"\n",
    "        elif match_others_4:\n",
    "            p1 = match_others_4.group(1)  \n",
    "            p2 = match_others_4.group(6)\n",
    "            p3 = match_others_4.group(7)\n",
    "            mes = \"others\"\n",
    "        else:\n",
    "            print(line)\n",
    "            p3 += \"\\n\"\n",
    "            p3 += line\n",
    "            mes = \"message\""
   ]
  },
  {
   "cell_type": "code",
   "execution_count": 4,
   "id": "59406302",
   "metadata": {
    "scrolled": false
   },
   "outputs": [
    {
     "name": "stdout",
     "output_type": "stream",
     "text": [
      "<class 'pandas.core.frame.DataFrame'>\n",
      "RangeIndex: 844 entries, 0 to 843\n",
      "Data columns (total 4 columns):\n",
      " #   Column    Non-Null Count  Dtype \n",
      "---  ------    --------------  ----- \n",
      " 0   datetime  844 non-null    object\n",
      " 1   name      844 non-null    object\n",
      " 2   type      844 non-null    object\n",
      " 3   detail    844 non-null    object\n",
      "dtypes: object(4)\n",
      "memory usage: 26.5+ KB\n"
     ]
    }
   ],
   "source": [
    "df.info()"
   ]
  },
  {
   "cell_type": "markdown",
   "id": "c6a9d680",
   "metadata": {},
   "source": [
    "### Some more data cleaning and transformation"
   ]
  },
  {
   "cell_type": "code",
   "execution_count": 4,
   "id": "18b7fb4a",
   "metadata": {},
   "outputs": [],
   "source": [
    "df[\"date\"] = df[\"datetime\"].str.split(', ').str[0]\n",
    "df[\"time\"] = df[\"datetime\"].str.split(', ').str[-1]\n",
    "df[\"date\"] = pd.to_datetime(df.date)\n",
    "df[\"time\"] = pd.to_datetime(df.time)\n",
    "df[\"time\"] = df.time.dt.time\n",
    "df[\"year\"] = df.date.dt.year.astype('int')\n",
    "df[\"month\"] = df.date.dt.month\n",
    "df[\"day\"] = df.date.dt.day"
   ]
  },
  {
   "cell_type": "code",
   "execution_count": 5,
   "id": "d93e671d",
   "metadata": {},
   "outputs": [
    {
     "name": "stdout",
     "output_type": "stream",
     "text": [
      "<class 'pandas.core.frame.DataFrame'>\n",
      "RangeIndex: 844 entries, 0 to 843\n",
      "Data columns (total 9 columns):\n",
      " #   Column    Non-Null Count  Dtype         \n",
      "---  ------    --------------  -----         \n",
      " 0   datetime  844 non-null    object        \n",
      " 1   name      844 non-null    object        \n",
      " 2   type      844 non-null    object        \n",
      " 3   detail    844 non-null    object        \n",
      " 4   date      844 non-null    datetime64[ns]\n",
      " 5   time      844 non-null    object        \n",
      " 6   year      844 non-null    int32         \n",
      " 7   month     844 non-null    int32         \n",
      " 8   day       844 non-null    int32         \n",
      "dtypes: datetime64[ns](1), int32(3), object(5)\n",
      "memory usage: 49.6+ KB\n"
     ]
    }
   ],
   "source": [
    "df.info()"
   ]
  },
  {
   "cell_type": "code",
   "execution_count": 6,
   "id": "b3be2e7d",
   "metadata": {},
   "outputs": [
    {
     "data": {
      "text/plain": [
       "844"
      ]
     },
     "execution_count": 6,
     "metadata": {},
     "output_type": "execute_result"
    }
   ],
   "source": [
    "total_count_of_engagements = df.name.count()\n",
    "total_count_of_engagements"
   ]
  },
  {
   "cell_type": "code",
   "execution_count": 7,
   "id": "fbd78640",
   "metadata": {},
   "outputs": [
    {
     "data": {
      "text/html": [
       "<div>\n",
       "<style scoped>\n",
       "    .dataframe tbody tr th:only-of-type {\n",
       "        vertical-align: middle;\n",
       "    }\n",
       "\n",
       "    .dataframe tbody tr th {\n",
       "        vertical-align: top;\n",
       "    }\n",
       "\n",
       "    .dataframe thead th {\n",
       "        text-align: right;\n",
       "    }\n",
       "</style>\n",
       "<table border=\"1\" class=\"dataframe\">\n",
       "  <thead>\n",
       "    <tr style=\"text-align: right;\">\n",
       "      <th></th>\n",
       "      <th>no_of_engagements</th>\n",
       "    </tr>\n",
       "    <tr>\n",
       "      <th>type</th>\n",
       "      <th></th>\n",
       "    </tr>\n",
       "  </thead>\n",
       "  <tbody>\n",
       "    <tr>\n",
       "      <th>message</th>\n",
       "      <td>613</td>\n",
       "    </tr>\n",
       "    <tr>\n",
       "      <th>joined</th>\n",
       "      <td>95</td>\n",
       "    </tr>\n",
       "    <tr>\n",
       "      <th>join request</th>\n",
       "      <td>94</td>\n",
       "    </tr>\n",
       "    <tr>\n",
       "      <th>left</th>\n",
       "      <td>17</td>\n",
       "    </tr>\n",
       "    <tr>\n",
       "      <th>added</th>\n",
       "      <td>11</td>\n",
       "    </tr>\n",
       "    <tr>\n",
       "      <th>pinned a message</th>\n",
       "      <td>6</td>\n",
       "    </tr>\n",
       "    <tr>\n",
       "      <th>others</th>\n",
       "      <td>5</td>\n",
       "    </tr>\n",
       "    <tr>\n",
       "      <th>changed number</th>\n",
       "      <td>3</td>\n",
       "    </tr>\n",
       "  </tbody>\n",
       "</table>\n",
       "</div>"
      ],
      "text/plain": [
       "                  no_of_engagements\n",
       "type                               \n",
       "message                         613\n",
       "joined                           95\n",
       "join request                     94\n",
       "left                             17\n",
       "added                            11\n",
       "pinned a message                  6\n",
       "others                            5\n",
       "changed number                    3"
      ]
     },
     "execution_count": 7,
     "metadata": {},
     "output_type": "execute_result"
    }
   ],
   "source": [
    "df.groupby('type').agg(no_of_engagements = ('date','count'))\\\n",
    ".sort_values('no_of_engagements', ascending=False)"
   ]
  },
  {
   "cell_type": "code",
   "execution_count": 5,
   "id": "fb7877f6",
   "metadata": {},
   "outputs": [],
   "source": [
    "df_messages = df[df.type == \"message\"]"
   ]
  },
  {
   "cell_type": "code",
   "execution_count": 6,
   "id": "cab8eabd",
   "metadata": {},
   "outputs": [],
   "source": [
    "# df_messages[\"hour\"] = df_messages[\"time\"].str.split(':').str[0]\n",
    "df_messages[\"hours\"] = df_messages.time\n",
    "def time_to_hours(x):\n",
    "    t = str(x)\n",
    "    hour = t.split(\":\")[0]\n",
    "    hour = int(hour)\n",
    "    if hour < 4:\n",
    "        return \"0 - 3\"\n",
    "    elif hour < 7:\n",
    "        return \"4 - 6\"\n",
    "    elif hour < 10:\n",
    "        return \"7 - 9\"\n",
    "    elif hour < 13:\n",
    "        return \"10 - 12\"\n",
    "    elif hour < 16:\n",
    "        return \"13 - 15\"\n",
    "    elif hour < 19:\n",
    "        return \"16 - 18\"\n",
    "    elif hour < 22:\n",
    "        return \"19 - 21\"\n",
    "    else:\n",
    "        return \"22 - 23\"   \n",
    "df_messages.hours = df_messages.hours.apply(time_to_hours)"
   ]
  },
  {
   "cell_type": "code",
   "execution_count": 10,
   "id": "ee1bd334",
   "metadata": {},
   "outputs": [
    {
     "data": {
      "text/html": [
       "<div>\n",
       "<style scoped>\n",
       "    .dataframe tbody tr th:only-of-type {\n",
       "        vertical-align: middle;\n",
       "    }\n",
       "\n",
       "    .dataframe tbody tr th {\n",
       "        vertical-align: top;\n",
       "    }\n",
       "\n",
       "    .dataframe thead th {\n",
       "        text-align: right;\n",
       "    }\n",
       "</style>\n",
       "<table border=\"1\" class=\"dataframe\">\n",
       "  <thead>\n",
       "    <tr style=\"text-align: right;\">\n",
       "      <th></th>\n",
       "      <th></th>\n",
       "      <th>No_of_engagements</th>\n",
       "    </tr>\n",
       "    <tr>\n",
       "      <th>year</th>\n",
       "      <th>month</th>\n",
       "      <th></th>\n",
       "    </tr>\n",
       "  </thead>\n",
       "  <tbody>\n",
       "    <tr>\n",
       "      <th rowspan=\"7\" valign=\"top\">2023</th>\n",
       "      <th>6</th>\n",
       "      <td>44</td>\n",
       "    </tr>\n",
       "    <tr>\n",
       "      <th>7</th>\n",
       "      <td>76</td>\n",
       "    </tr>\n",
       "    <tr>\n",
       "      <th>8</th>\n",
       "      <td>62</td>\n",
       "    </tr>\n",
       "    <tr>\n",
       "      <th>9</th>\n",
       "      <td>47</td>\n",
       "    </tr>\n",
       "    <tr>\n",
       "      <th>10</th>\n",
       "      <td>52</td>\n",
       "    </tr>\n",
       "    <tr>\n",
       "      <th>11</th>\n",
       "      <td>15</td>\n",
       "    </tr>\n",
       "    <tr>\n",
       "      <th>12</th>\n",
       "      <td>15</td>\n",
       "    </tr>\n",
       "    <tr>\n",
       "      <th rowspan=\"5\" valign=\"top\">2024</th>\n",
       "      <th>1</th>\n",
       "      <td>20</td>\n",
       "    </tr>\n",
       "    <tr>\n",
       "      <th>2</th>\n",
       "      <td>81</td>\n",
       "    </tr>\n",
       "    <tr>\n",
       "      <th>3</th>\n",
       "      <td>132</td>\n",
       "    </tr>\n",
       "    <tr>\n",
       "      <th>4</th>\n",
       "      <td>62</td>\n",
       "    </tr>\n",
       "    <tr>\n",
       "      <th>5</th>\n",
       "      <td>7</td>\n",
       "    </tr>\n",
       "  </tbody>\n",
       "</table>\n",
       "</div>"
      ],
      "text/plain": [
       "            No_of_engagements\n",
       "year month                   \n",
       "2023 6                     44\n",
       "     7                     76\n",
       "     8                     62\n",
       "     9                     47\n",
       "     10                    52\n",
       "     11                    15\n",
       "     12                    15\n",
       "2024 1                     20\n",
       "     2                     81\n",
       "     3                    132\n",
       "     4                     62\n",
       "     5                      7"
      ]
     },
     "execution_count": 10,
     "metadata": {},
     "output_type": "execute_result"
    }
   ],
   "source": [
    "chat_by_month = df_messages.groupby(['year', 'month']).\\\n",
    "agg(No_of_engagements = ('date','count'))\n",
    "chat_by_month\n",
    "\n"
   ]
  },
  {
   "cell_type": "code",
   "execution_count": 11,
   "id": "5557c20f",
   "metadata": {},
   "outputs": [
    {
     "data": {
      "image/png": "[encoded data removed]",
      "text/plain": [
       "<Figure size 1000x400 with 1 Axes>"
      ]
     },
     "metadata": {},
     "output_type": "display_data"
    }
   ],
   "source": [
    "fig, ax = plt.subplots(figsize=(10, 4))\n",
    "chat_by_month.plot(title=\"Chat volumn trend\", xlabel=\"year, month\",\n",
    "                            ylabel=\"Number of chats\", colormap = 'turbo', ax = ax)\n",
    "ax.spines['top'].set_visible(False)\n",
    "# ax.spines['bottom'].set_visible(False)\n",
    "# ax.spines['left'].set_visible(False)\n",
    "ax.spines['right'].set_visible(False)"
   ]
  },
  {
   "cell_type": "code",
   "execution_count": 12,
   "id": "47f66a89",
   "metadata": {},
   "outputs": [
    {
     "data": {
      "text/html": [
       "<div>\n",
       "<style scoped>\n",
       "    .dataframe tbody tr th:only-of-type {\n",
       "        vertical-align: middle;\n",
       "    }\n",
       "\n",
       "    .dataframe tbody tr th {\n",
       "        vertical-align: top;\n",
       "    }\n",
       "\n",
       "    .dataframe thead th {\n",
       "        text-align: right;\n",
       "    }\n",
       "</style>\n",
       "<table border=\"1\" class=\"dataframe\">\n",
       "  <thead>\n",
       "    <tr style=\"text-align: right;\">\n",
       "      <th></th>\n",
       "      <th>no_of_chats</th>\n",
       "    </tr>\n",
       "    <tr>\n",
       "      <th>name</th>\n",
       "      <th></th>\n",
       "    </tr>\n",
       "  </thead>\n",
       "  <tbody>\n",
       "    <tr>\n",
       "      <th>~klemz:</th>\n",
       "      <td>231</td>\n",
       "    </tr>\n",
       "    <tr>\n",
       "      <th>Okeoma GeoStat:</th>\n",
       "      <td>66</td>\n",
       "    </tr>\n",
       "    <tr>\n",
       "      <th>Uzodimma PyCom:</th>\n",
       "      <td>34</td>\n",
       "    </tr>\n",
       "    <tr>\n",
       "      <th>Maggie ❤️:</th>\n",
       "      <td>31</td>\n",
       "    </tr>\n",
       "    <tr>\n",
       "      <th>Joe Ibe Pycom:</th>\n",
       "      <td>18</td>\n",
       "    </tr>\n",
       "    <tr>\n",
       "      <th>...</th>\n",
       "      <td>...</td>\n",
       "    </tr>\n",
       "    <tr>\n",
       "      <th>+234 904 157 9470:</th>\n",
       "      <td>1</td>\n",
       "    </tr>\n",
       "    <tr>\n",
       "      <th>Chijioke Larryson:</th>\n",
       "      <td>1</td>\n",
       "    </tr>\n",
       "    <tr>\n",
       "      <th>Charles I Pycom:</th>\n",
       "      <td>1</td>\n",
       "    </tr>\n",
       "    <tr>\n",
       "      <th>Anthony A. I Pycom:</th>\n",
       "      <td>1</td>\n",
       "    </tr>\n",
       "    <tr>\n",
       "      <th>Anyone in this group is now a community member</th>\n",
       "      <td>1</td>\n",
       "    </tr>\n",
       "  </tbody>\n",
       "</table>\n",
       "<p>77 rows × 1 columns</p>\n",
       "</div>"
      ],
      "text/plain": [
       "                                                no_of_chats\n",
       "name                                                       \n",
       " ~klemz:                                                231\n",
       " Okeoma GeoStat:                                         66\n",
       " Uzodimma PyCom:                                         34\n",
       " Maggie ❤️:                                              31\n",
       " Joe Ibe Pycom:                                          18\n",
       "...                                                     ...\n",
       " +234 904 157 9470:                                       1\n",
       " Chijioke Larryson:                                       1\n",
       " Charles I Pycom:                                         1\n",
       " Anthony A. I Pycom:                                      1\n",
       "Anyone in this group is now a community member            1\n",
       "\n",
       "[77 rows x 1 columns]"
      ]
     },
     "execution_count": 12,
     "metadata": {},
     "output_type": "execute_result"
    }
   ],
   "source": [
    "df_messages.groupby('name').agg(no_of_chats = ('date','count'))\\\n",
    ".sort_values('no_of_chats', ascending=False)"
   ]
  },
  {
   "cell_type": "code",
   "execution_count": 13,
   "id": "4a255b36",
   "metadata": {},
   "outputs": [
    {
     "data": {
      "text/html": [
       "<div>\n",
       "<style scoped>\n",
       "    .dataframe tbody tr th:only-of-type {\n",
       "        vertical-align: middle;\n",
       "    }\n",
       "\n",
       "    .dataframe tbody tr th {\n",
       "        vertical-align: top;\n",
       "    }\n",
       "\n",
       "    .dataframe thead th {\n",
       "        text-align: right;\n",
       "    }\n",
       "</style>\n",
       "<table border=\"1\" class=\"dataframe\">\n",
       "  <thead>\n",
       "    <tr style=\"text-align: right;\">\n",
       "      <th></th>\n",
       "      <th>no_of_chats</th>\n",
       "    </tr>\n",
       "    <tr>\n",
       "      <th>hours</th>\n",
       "      <th></th>\n",
       "    </tr>\n",
       "  </thead>\n",
       "  <tbody>\n",
       "    <tr>\n",
       "      <th>19 - 21</th>\n",
       "      <td>139</td>\n",
       "    </tr>\n",
       "    <tr>\n",
       "      <th>10 - 12</th>\n",
       "      <td>135</td>\n",
       "    </tr>\n",
       "    <tr>\n",
       "      <th>7 - 9</th>\n",
       "      <td>118</td>\n",
       "    </tr>\n",
       "    <tr>\n",
       "      <th>16 - 18</th>\n",
       "      <td>82</td>\n",
       "    </tr>\n",
       "    <tr>\n",
       "      <th>13 - 15</th>\n",
       "      <td>65</td>\n",
       "    </tr>\n",
       "    <tr>\n",
       "      <th>22 - 23</th>\n",
       "      <td>46</td>\n",
       "    </tr>\n",
       "    <tr>\n",
       "      <th>4 - 6</th>\n",
       "      <td>19</td>\n",
       "    </tr>\n",
       "    <tr>\n",
       "      <th>0 - 3</th>\n",
       "      <td>9</td>\n",
       "    </tr>\n",
       "  </tbody>\n",
       "</table>\n",
       "</div>"
      ],
      "text/plain": [
       "         no_of_chats\n",
       "hours               \n",
       "19 - 21          139\n",
       "10 - 12          135\n",
       "7 - 9            118\n",
       "16 - 18           82\n",
       "13 - 15           65\n",
       "22 - 23           46\n",
       "4 - 6             19\n",
       "0 - 3              9"
      ]
     },
     "execution_count": 13,
     "metadata": {},
     "output_type": "execute_result"
    }
   ],
   "source": [
    "active_hours = df_messages.groupby('hours').agg(no_of_chats = ('date','count'))\\\n",
    ".sort_values('no_of_chats', ascending=False)\n",
    "active_hours"
   ]
  },
  {
   "cell_type": "code",
   "execution_count": 7,
   "id": "ace42bcc",
   "metadata": {},
   "outputs": [],
   "source": [
    "df_joined = df[(df.type == \"joined\") | (df.type == \"added\")]"
   ]
  },
  {
   "cell_type": "code",
   "execution_count": 15,
   "id": "d09b420c",
   "metadata": {},
   "outputs": [
    {
     "data": {
      "text/html": [
       "<div>\n",
       "<style scoped>\n",
       "    .dataframe tbody tr th:only-of-type {\n",
       "        vertical-align: middle;\n",
       "    }\n",
       "\n",
       "    .dataframe tbody tr th {\n",
       "        vertical-align: top;\n",
       "    }\n",
       "\n",
       "    .dataframe thead th {\n",
       "        text-align: right;\n",
       "    }\n",
       "</style>\n",
       "<table border=\"1\" class=\"dataframe\">\n",
       "  <thead>\n",
       "    <tr style=\"text-align: right;\">\n",
       "      <th></th>\n",
       "      <th></th>\n",
       "      <th>No_of_engagements</th>\n",
       "    </tr>\n",
       "    <tr>\n",
       "      <th>year</th>\n",
       "      <th>month</th>\n",
       "      <th></th>\n",
       "    </tr>\n",
       "  </thead>\n",
       "  <tbody>\n",
       "    <tr>\n",
       "      <th rowspan=\"6\" valign=\"top\">2023</th>\n",
       "      <th>7</th>\n",
       "      <td>3</td>\n",
       "    </tr>\n",
       "    <tr>\n",
       "      <th>8</th>\n",
       "      <td>5</td>\n",
       "    </tr>\n",
       "    <tr>\n",
       "      <th>9</th>\n",
       "      <td>3</td>\n",
       "    </tr>\n",
       "    <tr>\n",
       "      <th>10</th>\n",
       "      <td>3</td>\n",
       "    </tr>\n",
       "    <tr>\n",
       "      <th>11</th>\n",
       "      <td>1</td>\n",
       "    </tr>\n",
       "    <tr>\n",
       "      <th>12</th>\n",
       "      <td>1</td>\n",
       "    </tr>\n",
       "    <tr>\n",
       "      <th rowspan=\"5\" valign=\"top\">2024</th>\n",
       "      <th>1</th>\n",
       "      <td>1</td>\n",
       "    </tr>\n",
       "    <tr>\n",
       "      <th>2</th>\n",
       "      <td>29</td>\n",
       "    </tr>\n",
       "    <tr>\n",
       "      <th>3</th>\n",
       "      <td>39</td>\n",
       "    </tr>\n",
       "    <tr>\n",
       "      <th>4</th>\n",
       "      <td>18</td>\n",
       "    </tr>\n",
       "    <tr>\n",
       "      <th>5</th>\n",
       "      <td>3</td>\n",
       "    </tr>\n",
       "  </tbody>\n",
       "</table>\n",
       "</div>"
      ],
      "text/plain": [
       "            No_of_engagements\n",
       "year month                   \n",
       "2023 7                      3\n",
       "     8                      5\n",
       "     9                      3\n",
       "     10                     3\n",
       "     11                     1\n",
       "     12                     1\n",
       "2024 1                      1\n",
       "     2                     29\n",
       "     3                     39\n",
       "     4                     18\n",
       "     5                      3"
      ]
     },
     "execution_count": 15,
     "metadata": {},
     "output_type": "execute_result"
    }
   ],
   "source": [
    "chat_by_month = df_joined.groupby(['year', 'month']).\\\n",
    "agg(No_of_engagements = ('date','count'))\n",
    "chat_by_month"
   ]
  },
  {
   "cell_type": "code",
   "execution_count": 167,
   "id": "cd84eae0",
   "metadata": {},
   "outputs": [],
   "source": [
    "# df.to_csv('python_gro_chat.csv', index = False)"
   ]
  },
  {
   "cell_type": "code",
   "execution_count": 169,
   "id": "82e208e2",
   "metadata": {},
   "outputs": [],
   "source": [
    "# active_hours.to_csv('python_gro_active_hours.csv')"
   ]
  },
  {
   "cell_type": "code",
   "execution_count": 18,
   "id": "83bb5a0f",
   "metadata": {
    "scrolled": true
   },
   "outputs": [
    {
     "data": {
      "text/plain": [
       "Index(['datetime', 'name', 'type', 'detail', 'date', 'time', 'year', 'month',\n",
       "       'day', 'hours'],\n",
       "      dtype='object')"
      ]
     },
     "execution_count": 18,
     "metadata": {},
     "output_type": "execute_result"
    }
   ],
   "source": [
    "df_messages.columns"
   ]
  },
  {
   "cell_type": "code",
   "execution_count": 8,
   "id": "34555a94",
   "metadata": {},
   "outputs": [],
   "source": [
    "df_msg_details = df_messages[[\"name\", \"detail\"]]"
   ]
  },
  {
   "cell_type": "code",
   "execution_count": 10,
   "id": "35d7c052",
   "metadata": {},
   "outputs": [],
   "source": [
    "rt = lambda x: re.sub(\"[^a-zA-Z]\", ' ',str(x))\n",
    "#replace anycharacter not a-zA-Z with white space"
   ]
  },
  {
   "cell_type": "code",
   "execution_count": 11,
   "id": "c223e6d8",
   "metadata": {},
   "outputs": [],
   "source": [
    "df_msg_details['detail'] = df_msg_details['detail'].map(rt)"
   ]
  },
  {
   "cell_type": "code",
   "execution_count": 12,
   "id": "7304d746",
   "metadata": {},
   "outputs": [],
   "source": [
    "df_msg_details['detail'] = df_msg_details['detail'].str.lower()"
   ]
  },
  {
   "cell_type": "code",
   "execution_count": 13,
   "id": "877ccc67",
   "metadata": {
    "scrolled": false
   },
   "outputs": [],
   "source": [
    "df_msg_details['detail'] = df_msg_details.detail.apply(lambda x: x.strip())\n",
    "# To remove any whitespaces from front and back of string"
   ]
  },
  {
   "cell_type": "code",
   "execution_count": 14,
   "id": "d888ef75",
   "metadata": {
    "scrolled": false
   },
   "outputs": [],
   "source": [
    "df_msg_details['detail'] = df_msg_details.detail.apply(lambda x: simple_preprocess(x))\n",
    "# To preprocess text data"
   ]
  },
  {
   "cell_type": "code",
   "execution_count": 16,
   "id": "a88e7a99",
   "metadata": {},
   "outputs": [],
   "source": [
    "# set stop words\n",
    "stop_words = set(stopwords.words('english'))\n"
   ]
  },
  {
   "cell_type": "code",
   "execution_count": 17,
   "id": "e74cb21e",
   "metadata": {},
   "outputs": [],
   "source": [
    "# Define a function to remove stop words\n",
    "def remove_stop_words(words):\n",
    "    filtered_ = [word for word in words if word not in stop_words]\n",
    "    return filtered_"
   ]
  },
  {
   "cell_type": "code",
   "execution_count": 18,
   "id": "1470390a",
   "metadata": {},
   "outputs": [],
   "source": [
    "# apply stop word removal\n",
    "df_msg_details['detail'] = df_msg_details['detail'].apply(remove_stop_words)"
   ]
  },
  {
   "cell_type": "code",
   "execution_count": 19,
   "id": "171dae6f",
   "metadata": {},
   "outputs": [],
   "source": [
    "# reate gensim dictionary\n",
    "gen_dict = corpora.Dictionary(df_msg_details['detail'])"
   ]
  },
  {
   "cell_type": "code",
   "execution_count": 20,
   "id": "ceb00759",
   "metadata": {
    "scrolled": true
   },
   "outputs": [],
   "source": [
    "gen_corpus = [gen_dict.doc2bow(doc) for doc in df_msg_details['detail']]\n",
    "# gen_corpus"
   ]
  },
  {
   "cell_type": "code",
   "execution_count": 21,
   "id": "c4549d57",
   "metadata": {},
   "outputs": [],
   "source": [
    "# Train LDA topic\n",
    "lda_model = LdaModel(corpus = gen_corpus, id2word=gen_dict, \\\n",
    "                     num_topics = 5, passes=15, random_state = 0)"
   ]
  },
  {
   "cell_type": "code",
   "execution_count": 22,
   "id": "ccf25aa7",
   "metadata": {},
   "outputs": [
    {
     "data": {
      "text/plain": [
       "['0.017*\"ai\" + 0.011*\"data\" + 0.010*\"https\" + 0.009*\"com\" + 0.008*\"message\"',\n",
       " '0.029*\"community\" + 0.029*\"everyone\" + 0.024*\"good\" + 0.016*\"us\" + 0.012*\"anambra\"',\n",
       " '0.018*\"https\" + 0.015*\"com\" + 0.010*\"program\" + 0.010*\"internship\" + 0.009*\"done\"',\n",
       " '0.018*\"challenge\" + 0.015*\"thank\" + 0.009*\"sir\" + 0.007*\"tech\" + 0.007*\"community\"',\n",
       " '0.034*\"media\" + 0.033*\"omitted\" + 0.012*\"python\" + 0.012*\"list\" + 0.010*\"resume\"']"
      ]
     },
     "execution_count": 22,
     "metadata": {},
     "output_type": "execute_result"
    }
   ],
   "source": [
    "# Extract topic as text\n",
    "topic_as_text = []\n",
    "for topic in lda_model.print_topics(num_words =5):\n",
    "    # the number of words can be changed\n",
    "    topic_as_text.append(topic[1])\n",
    "\n",
    "topic_as_text"
   ]
  },
  {
   "cell_type": "code",
   "execution_count": 23,
   "id": "e183e35b",
   "metadata": {},
   "outputs": [],
   "source": [
    "topic_as_text = [t.replace(' + ',',') for t in topic_as_text]"
   ]
  },
  {
   "cell_type": "code",
   "execution_count": 24,
   "id": "efe4dfcf",
   "metadata": {},
   "outputs": [],
   "source": [
    "topic_as_text = [t.split(',') for t in topic_as_text]"
   ]
  },
  {
   "cell_type": "code",
   "execution_count": 25,
   "id": "b3af64b7",
   "metadata": {},
   "outputs": [
    {
     "data": {
      "text/plain": [
       "[['0.017*\"ai\"',\n",
       "  '0.011*\"data\"',\n",
       "  '0.010*\"https\"',\n",
       "  '0.009*\"com\"',\n",
       "  '0.008*\"message\"'],\n",
       " ['0.029*\"community\"',\n",
       "  '0.029*\"everyone\"',\n",
       "  '0.024*\"good\"',\n",
       "  '0.016*\"us\"',\n",
       "  '0.012*\"anambra\"'],\n",
       " ['0.018*\"https\"',\n",
       "  '0.015*\"com\"',\n",
       "  '0.010*\"program\"',\n",
       "  '0.010*\"internship\"',\n",
       "  '0.009*\"done\"'],\n",
       " ['0.018*\"challenge\"',\n",
       "  '0.015*\"thank\"',\n",
       "  '0.009*\"sir\"',\n",
       "  '0.007*\"tech\"',\n",
       "  '0.007*\"community\"'],\n",
       " ['0.034*\"media\"',\n",
       "  '0.033*\"omitted\"',\n",
       "  '0.012*\"python\"',\n",
       "  '0.012*\"list\"',\n",
       "  '0.010*\"resume\"']]"
      ]
     },
     "execution_count": 25,
     "metadata": {},
     "output_type": "execute_result"
    }
   ],
   "source": [
    "topic_as_text"
   ]
  },
  {
   "cell_type": "code",
   "execution_count": 26,
   "id": "2588d8a5",
   "metadata": {},
   "outputs": [
    {
     "data": {
      "text/plain": [
       "['ai',\n",
       " 'data',\n",
       " 'https',\n",
       " 'com',\n",
       " 'message',\n",
       " 'community',\n",
       " 'everyone',\n",
       " 'good',\n",
       " 'us',\n",
       " 'anambra',\n",
       " 'https',\n",
       " 'com',\n",
       " 'program',\n",
       " 'internship',\n",
       " 'done',\n",
       " 'challenge',\n",
       " 'thank',\n",
       " 'sir',\n",
       " 'tech',\n",
       " 'community',\n",
       " 'media',\n",
       " 'omitted',\n",
       " 'python',\n",
       " 'list',\n",
       " 'resume']"
      ]
     },
     "execution_count": 26,
     "metadata": {},
     "output_type": "execute_result"
    }
   ],
   "source": [
    "best_topics = []\n",
    "for topics in topic_as_text:\n",
    "    \n",
    "    for t in topics:\n",
    "        # match the topics only\n",
    "        match_topics = re.match(r'(^(.*)(\")(.*)(\")(.*)$)', t)\n",
    "        best_topics.append(match_topics.group(4))\n",
    "#         print()\n",
    "#         if match_topics:\n",
    "#                 print(match_topics.group(4))\n",
    "#         else:\n",
    "#             print(\"no\")\n",
    "best_topics"
   ]
  },
  {
   "cell_type": "code",
   "execution_count": 27,
   "id": "1c5de463",
   "metadata": {},
   "outputs": [],
   "source": [
    "# Extract Topic models\n",
    "df_msg_details['topics'] = df_msg_details['detail'].apply(lambda x: lda_model[gen_dict.doc2bow(x)])"
   ]
  },
  {
   "cell_type": "code",
   "execution_count": 28,
   "id": "ce841ee9",
   "metadata": {},
   "outputs": [],
   "source": [
    "def topic_select(x):\n",
    "    for t in x:\n",
    "        if t[1] == max(x, key= lambda tp: tp[1])[1]:\n",
    "            if t[0] == 0:\n",
    "                return \"Web Analytics and Data\"\n",
    "            elif t[0] == 1:\n",
    "                return \"Social Inclusion\"\n",
    "            elif t[0] == 2:\n",
    "                return \"Career Development\"\n",
    "            elif t[0] == 3:\n",
    "                return \"AI and Assistance\"\n",
    "            elif t[0] == 4:\n",
    "                return \"Python and monthly activities\""
   ]
  },
  {
   "cell_type": "code",
   "execution_count": 128,
   "id": "4cd040b2",
   "metadata": {},
   "outputs": [
    {
     "data": {
      "text/plain": [
       "['web analytics and data',\n",
       " 'social inclusion',\n",
       " 'career development',\n",
       " 'AI and Assistance',\n",
       " 'Python and monthly activities']"
      ]
     },
     "execution_count": 128,
     "metadata": {},
     "output_type": "execute_result"
    }
   ],
   "source": [
    "topic_list = [\"web analytics and data\", \"social inclusion\", \\\n",
    "              \"career development\", \"AI and Assistance\", \"Python and monthly activities\"]\n",
    "topic_list"
   ]
  },
  {
   "cell_type": "code",
   "execution_count": 29,
   "id": "deb75605",
   "metadata": {
    "scrolled": true
   },
   "outputs": [],
   "source": [
    "df_msg_details['topic'] = df_msg_details['topics'].apply(topic_select)"
   ]
  },
  {
   "cell_type": "code",
   "execution_count": 30,
   "id": "49cecd3f",
   "metadata": {},
   "outputs": [
    {
     "data": {
      "text/html": [
       "<div>\n",
       "<style scoped>\n",
       "    .dataframe tbody tr th:only-of-type {\n",
       "        vertical-align: middle;\n",
       "    }\n",
       "\n",
       "    .dataframe tbody tr th {\n",
       "        vertical-align: top;\n",
       "    }\n",
       "\n",
       "    .dataframe thead th {\n",
       "        text-align: right;\n",
       "    }\n",
       "</style>\n",
       "<table border=\"1\" class=\"dataframe\">\n",
       "  <thead>\n",
       "    <tr style=\"text-align: right;\">\n",
       "      <th></th>\n",
       "      <th>no_of_times</th>\n",
       "    </tr>\n",
       "    <tr>\n",
       "      <th>topic</th>\n",
       "      <th></th>\n",
       "    </tr>\n",
       "  </thead>\n",
       "  <tbody>\n",
       "    <tr>\n",
       "      <th>Social Inclusion</th>\n",
       "      <td>199</td>\n",
       "    </tr>\n",
       "    <tr>\n",
       "      <th>Python and monthly activities</th>\n",
       "      <td>126</td>\n",
       "    </tr>\n",
       "    <tr>\n",
       "      <th>Web Analytics and Data</th>\n",
       "      <td>126</td>\n",
       "    </tr>\n",
       "    <tr>\n",
       "      <th>AI and Assistance</th>\n",
       "      <td>94</td>\n",
       "    </tr>\n",
       "    <tr>\n",
       "      <th>Career Development</th>\n",
       "      <td>68</td>\n",
       "    </tr>\n",
       "  </tbody>\n",
       "</table>\n",
       "</div>"
      ],
      "text/plain": [
       "                               no_of_times\n",
       "topic                                     \n",
       "Social Inclusion                       199\n",
       "Python and monthly activities          126\n",
       "Web Analytics and Data                 126\n",
       "AI and Assistance                       94\n",
       "Career Development                      68"
      ]
     },
     "execution_count": 30,
     "metadata": {},
     "output_type": "execute_result"
    }
   ],
   "source": [
    "Popular_topics = df_msg_details.groupby('topic').agg(no_of_times = ('name','count'))\\\n",
    ".sort_values('no_of_times', ascending=False)\n",
    "Popular_topics"
   ]
  },
  {
   "cell_type": "code",
   "execution_count": 115,
   "id": "f3b7774f",
   "metadata": {},
   "outputs": [],
   "source": [
    "# Popular_topics.to_csv('python_Popular_topics.csv')"
   ]
  },
  {
   "cell_type": "code",
   "execution_count": null,
   "id": "4fdf6895",
   "metadata": {
    "scrolled": true
   },
   "outputs": [],
   "source": [
    "# Tokenize the text, splitting the texts into tokens using space as delimiter\n",
    "# df_msg_details['tokenized'] = df_msg_details['detail'].str.split(' ')\n",
    "# df_msg_details"
   ]
  },
  {
   "cell_type": "code",
   "execution_count": 29,
   "id": "608476cd",
   "metadata": {},
   "outputs": [],
   "source": []
  },
  {
   "cell_type": "code",
   "execution_count": null,
   "id": "39d33b77",
   "metadata": {
    "scrolled": false
   },
   "outputs": [],
   "source": [
    "# Using NLTK to tokenize takes into consideration ponctuations and other special characters\n",
    "df_msg_details['tokenized'] = df_msg_details['detail'].apply(word_tokenize)"
   ]
  },
  {
   "cell_type": "code",
   "execution_count": 51,
   "id": "9bd481fd",
   "metadata": {},
   "outputs": [
    {
     "name": "stdout",
     "output_type": "stream",
     "text": [
      "<class 'pandas.core.frame.DataFrame'>\n",
      "RangeIndex: 613 entries, 0 to 612\n",
      "Data columns (total 7 columns):\n",
      " #   Column      Non-Null Count  Dtype  \n",
      "---  ------      --------------  -----  \n",
      " 0   name        613 non-null    object \n",
      " 1   detail      613 non-null    object \n",
      " 2   neg         613 non-null    float64\n",
      " 3   neu         613 non-null    float64\n",
      " 4   pos         613 non-null    float64\n",
      " 5   compound    613 non-null    float64\n",
      " 6   tokenized2  613 non-null    object \n",
      "dtypes: float64(4), object(3)\n",
      "memory usage: 33.6+ KB\n"
     ]
    }
   ],
   "source": [
    "df_msg_details.info()"
   ]
  },
  {
   "cell_type": "code",
   "execution_count": 31,
   "id": "5da811a6",
   "metadata": {},
   "outputs": [],
   "source": [
    "def rejoin_words(list_):\n",
    "    words = ' '.join([word for word in list_])\n",
    "    return words\n"
   ]
  },
  {
   "cell_type": "code",
   "execution_count": 32,
   "id": "c2fea5af",
   "metadata": {},
   "outputs": [],
   "source": [
    "df_msg_details['detail_'] = df_msg_details['detail'].apply(rejoin_words)"
   ]
  },
  {
   "cell_type": "code",
   "execution_count": 33,
   "id": "2fe896a1",
   "metadata": {},
   "outputs": [],
   "source": [
    "for index, row in df_msg_details['detail_'].items():\n",
    "    \n",
    "    score = SentimentIntensityAnalyzer().polarity_scores(row)\n",
    "    \n",
    "    neg = score['neg']\n",
    "    neu = score['neu']\n",
    "    pos = score['pos']\n",
    "    \n",
    "    if neg > pos:\n",
    "        df_msg_details.loc[index, 'sentiment'] = 'Negative'\n",
    "    elif pos > neg:\n",
    "        df_msg_details.loc[index, 'sentiment'] = 'Posetive'\n",
    "    else:\n",
    "        df_msg_details.loc[index, 'sentiment'] = 'Neutral'"
   ]
  },
  {
   "cell_type": "code",
   "execution_count": 34,
   "id": "dae64579",
   "metadata": {},
   "outputs": [],
   "source": [
    "df_msg_details2 = df_msg_details[[\"name\", \"detail_\", \"sentiment\"]]"
   ]
  },
  {
   "cell_type": "code",
   "execution_count": 123,
   "id": "4bd4c9b7",
   "metadata": {},
   "outputs": [],
   "source": [
    "# df_msg_details2.to_csv('python_gro_chat_sentiment.csv', index = False)"
   ]
  },
  {
   "cell_type": "code",
   "execution_count": 35,
   "id": "00e1d7bf",
   "metadata": {},
   "outputs": [],
   "source": [
    "pos_chat = df_msg_details[df_msg_details.sentiment == 'Posetive']"
   ]
  },
  {
   "cell_type": "code",
   "execution_count": 37,
   "id": "9190f73f",
   "metadata": {},
   "outputs": [],
   "source": [
    "posetive_words = ' '.join([word for word in pos_chat.detail_])"
   ]
  },
  {
   "cell_type": "code",
   "execution_count": 39,
   "id": "206988c5",
   "metadata": {},
   "outputs": [],
   "source": [
    "words_ = ' '.join([word for word in df_msg_details.detail_])"
   ]
  },
  {
   "cell_type": "code",
   "execution_count": 40,
   "id": "e3d02a3c",
   "metadata": {
    "scrolled": true
   },
   "outputs": [
    {
     "ename": "NameError",
     "evalue": "name 'WordCloud' is not defined",
     "output_type": "error",
     "traceback": [
      "\u001b[1;31m---------------------------------------------------------------------------\u001b[0m",
      "\u001b[1;31mNameError\u001b[0m                                 Traceback (most recent call last)",
      "Cell \u001b[1;32mIn[40], line 2\u001b[0m\n\u001b[0;32m      1\u001b[0m plt\u001b[38;5;241m.\u001b[39mfigure(figsize\u001b[38;5;241m=\u001b[39m(\u001b[38;5;241m20\u001b[39m,\u001b[38;5;241m14\u001b[39m), facecolor\u001b[38;5;241m=\u001b[39m\u001b[38;5;124m'\u001b[39m\u001b[38;5;124mNone\u001b[39m\u001b[38;5;124m'\u001b[39m)\n\u001b[1;32m----> 2\u001b[0m wordcloud \u001b[38;5;241m=\u001b[39m \u001b[43mWordCloud\u001b[49m()\u001b[38;5;241m.\u001b[39mgenerate(words_)\n\u001b[0;32m      3\u001b[0m plt\u001b[38;5;241m.\u001b[39mimshow(wordcloud, interpolation\u001b[38;5;241m=\u001b[39m\u001b[38;5;124m'\u001b[39m\u001b[38;5;124mbilinear\u001b[39m\u001b[38;5;124m'\u001b[39m)\n\u001b[0;32m      4\u001b[0m plt\u001b[38;5;241m.\u001b[39maxis(\u001b[38;5;124m'\u001b[39m\u001b[38;5;124moff\u001b[39m\u001b[38;5;124m'\u001b[39m)\n",
      "\u001b[1;31mNameError\u001b[0m: name 'WordCloud' is not defined"
     ]
    },
    {
     "data": {
      "text/plain": [
       "<Figure size 2000x1400 with 0 Axes>"
      ]
     },
     "metadata": {},
     "output_type": "display_data"
    }
   ],
   "source": [
    "plt.figure(figsize=(20,14), facecolor='None')\n",
    "wordcloud = WordCloud().generate(words_)\n",
    "plt.imshow(wordcloud, interpolation='bilinear')\n",
    "plt.axis('off')\n",
    "plt.title('Most frequent word in posetive chat', fontsize=19)\n",
    "plt.savefig('pos_chat.png1',format=\"png\")\n",
    "plt.show()"
   ]
  },
  {
   "cell_type": "code",
   "execution_count": 41,
   "id": "c84cc0e3",
   "metadata": {
    "scrolled": true
   },
   "outputs": [
    {
     "data": {
      "text/plain": [
       "Text(0.5, 1.0, 'Count of the sentiments')"
      ]
     },
     "execution_count": 41,
     "metadata": {},
     "output_type": "execute_result"
    },
    {
     "data": {
      "image/png": "[encoded data removed]",
      "text/plain": [
       "<Figure size 640x480 with 1 Axes>"
      ]
     },
     "metadata": {},
     "output_type": "display_data"
    }
   ],
   "source": [
    "sns.countplot( x='sentiment', palette='coolwarm', data=df_msg_details).set_title('Count of the sentiments')"
   ]
  }
 ],
 "metadata": {
  "kernelspec": {
   "display_name": "Python 3 (ipykernel)",
   "language": "python",
   "name": "python3"
  },
  "language_info": {
   "codemirror_mode": {
    "name": "ipython",
    "version": 3
   },
   "file_extension": ".py",
   "mimetype": "text/x-python",
   "name": "python",
   "nbconvert_exporter": "python",
   "pygments_lexer": "ipython3",
   "version": "3.9.12"
  }
 },
 "nbformat": 4,
 "nbformat_minor": 5
}
